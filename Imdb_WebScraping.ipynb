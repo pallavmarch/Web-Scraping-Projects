{
  "nbformat": 4,
  "nbformat_minor": 0,
  "metadata": {
    "colab": {
      "provenance": [],
      "authorship_tag": "ABX9TyPKDVB+s2ablgKkwfZBQVQw",
      "include_colab_link": true
    },
    "kernelspec": {
      "name": "python3",
      "display_name": "Python 3"
    },
    "language_info": {
      "name": "python"
    }
  },
  "cells": [
    {
      "cell_type": "markdown",
      "metadata": {
        "id": "view-in-github",
        "colab_type": "text"
      },
      "source": [
        "<a href=\"https://colab.research.google.com/github/pallavmarch/Web-Scraping-Projects/blob/main/Imdb_WebScraping.ipynb\" target=\"_parent\"><img src=\"https://colab.research.google.com/assets/colab-badge.svg\" alt=\"Open In Colab\"/></a>"
      ]
    },
    {
      "cell_type": "code",
      "source": [
        "import requests\n",
        "from bs4 import BeautifulSoup\n",
        "import time\n",
        "import pandas as pd\n",
        "from rich.console import Console\n",
        "from rich.table import Table"
      ],
      "metadata": {
        "id": "NsNOjzG-Mbgu"
      },
      "execution_count": 25,
      "outputs": []
    },
    {
      "cell_type": "code",
      "source": [
        "imdb_charts = {\n",
        "    \"Top Movies\": \"https://www.imdb.com/chart/top/\",\n",
        "    \"Most Popular Movies\": \"https://www.imdb.com/chart/moviemeter/?ref_=nv_mv_mpm\",\n",
        "    \"Box Office\": \"https://www.imdb.com/chart/boxoffice/?ref_=nv_ch_cht\",\n",
        "    \"Top TV Shows\": \"https://www.imdb.com/chart/toptv/?ref_=nv_tvv_250\",\n",
        "    \"Most Popular TV Shows\": \"https://www.imdb.com/chart/tvmeter/?ref_=nv_tvv_mptv\",\n",
        "}\n",
        "\n",
        "HEADERS = {\n",
        "    \"User-Agent\": \"Mozilla/5.0 (Windows NT 10.0; Win64; x64) AppleWebKit/537.36 (KHTML, like Gecko) Chrome/91.0.4472.124 Safari/537.36\",\n",
        "    \"Accept-Language\": \"en-US,en;q=0.5\",\n",
        "}\n",
        "\n",
        "console = Console()\n",
        "scraped_data = []\n",
        "\n",
        "\n",
        "def fetch_html(url, max_retries=3):\n",
        "    \"\"\"Fetch HTML content with retry mechanism.\"\"\"\n",
        "    for attempt in range(max_retries):\n",
        "        try:\n",
        "            response = requests.get(url, headers=HEADERS, timeout=10)\n",
        "            if response.status_code == 200:\n",
        "                return response.text\n",
        "            console.print(f\"[bold red]Failed to retrieve data (Attempt {attempt+1}/{max_retries}): {response.status_code}[/bold red]\")\n",
        "        except requests.exceptions.RequestException as e:\n",
        "            console.print(f\"[bold red]Request failed (Attempt {attempt+1}/{max_retries}): {e}[/bold red]\")\n",
        "        #time.sleep(2)\n",
        "    return None\n",
        "\n",
        "def scrape_imdb_chart(chart_name, url):\n",
        "    \"\"\"Scrape and display movies/TV shows from IMDb charts.\"\"\"\n",
        "    html = fetch_html(url)\n",
        "    if not html:\n",
        "        console.print(f\"[bold red]Failed to retrieve {chart_name} after multiple attempts.[/bold red]\")\n",
        "        return\n",
        "\n",
        "    soup = BeautifulSoup(html, \"html.parser\")\n",
        "    movies = soup.find_all(\"li\", class_=\"ipc-metadata-list-summary-item\")\n",
        "\n",
        "    if not movies:\n",
        "        console.print(f\"[bold red]No movies found for {chart_name}. IMDb might have changed its structure.[/bold red]\")\n",
        "        return\n",
        "\n",
        "\n",
        "    table = Table(title=f\"🎬 {chart_name}\", header_style=\"bold magenta\")\n",
        "    table.add_column(\"Rank\", justify=\"center\", style=\"cyan\")\n",
        "    table.add_column(\"Title\", justify=\"left\", style=\"yellow\")\n",
        "    table.add_column(\"Year\", justify=\"center\", style=\"green\")\n",
        "    table.add_column(\"IMDb Rating\", justify=\"center\", style=\"blue\")\n",
        "\n",
        "\n",
        "    for i, movie in enumerate(movies[:10]):\n",
        "        title = movie.find(\"h3\", class_=\"ipc-title__text\")\n",
        "        year = movie.find(\"span\", class_=\"cli-title-metadata-item\")\n",
        "        rating = movie.find(\"span\", class_=\"ipc-rating-star--rating\")\n",
        "\n",
        "        title_text = title.text if title else \"N/A\"\n",
        "        year_text = year.text if year else \"N/A\"\n",
        "        rating_text = rating.text if rating else \"N/A\"\n",
        "\n",
        "        table.add_row(f\"[bold]{i+1}[/bold]\", title_text, year_text, rating_text)\n",
        "        scraped_data.append({\"Chart\": chart_name, \"Rank\": i+1, \"Title\": title_text, \"Year\": year_text, \"IMDb Rating\": rating_text})\n",
        "\n",
        "\n",
        "    console.print(table)\n",
        "    #time.sleep(1.5)\n",
        "\n",
        "\n",
        "for chart_name, url in imdb_charts.items():\n",
        "    scrape_imdb_chart(chart_name, url)\n"
      ],
      "metadata": {
        "colab": {
          "base_uri": "https://localhost:8080/",
          "height": 1000
        },
        "id": "9GqFWRTXGljY",
        "outputId": "7324334c-b1d6-4aa6-aa4f-7f933223bddf"
      },
      "execution_count": 26,
      "outputs": [
        {
          "output_type": "display_data",
          "data": {
            "text/plain": [
              "\u001b[3m                                   🎬 Top Movies                                    \u001b[0m\n",
              "┏━━━━━━┳━━━━━━━━━━━━━━━━━━━━━━━━━━━━━━━━━━━━━━━━━━━━━━━━━━━━━━┳━━━━━━┳━━━━━━━━━━━━━┓\n",
              "┃\u001b[1;35m \u001b[0m\u001b[1;35mRank\u001b[0m\u001b[1;35m \u001b[0m┃\u001b[1;35m \u001b[0m\u001b[1;35mTitle                                               \u001b[0m\u001b[1;35m \u001b[0m┃\u001b[1;35m \u001b[0m\u001b[1;35mYear\u001b[0m\u001b[1;35m \u001b[0m┃\u001b[1;35m \u001b[0m\u001b[1;35mIMDb Rating\u001b[0m\u001b[1;35m \u001b[0m┃\n",
              "┡━━━━━━╇━━━━━━━━━━━━━━━━━━━━━━━━━━━━━━━━━━━━━━━━━━━━━━━━━━━━━━╇━━━━━━╇━━━━━━━━━━━━━┩\n",
              "│\u001b[36m \u001b[0m\u001b[36m \u001b[0m\u001b[1;36m1\u001b[0m\u001b[36m  \u001b[0m\u001b[36m \u001b[0m│\u001b[33m \u001b[0m\u001b[33m1. The Shawshank Redemption                         \u001b[0m\u001b[33m \u001b[0m│\u001b[32m \u001b[0m\u001b[32m1994\u001b[0m\u001b[32m \u001b[0m│\u001b[34m \u001b[0m\u001b[34m    9.3    \u001b[0m\u001b[34m \u001b[0m│\n",
              "│\u001b[36m \u001b[0m\u001b[36m \u001b[0m\u001b[1;36m2\u001b[0m\u001b[36m  \u001b[0m\u001b[36m \u001b[0m│\u001b[33m \u001b[0m\u001b[33m2. The Godfather                                    \u001b[0m\u001b[33m \u001b[0m│\u001b[32m \u001b[0m\u001b[32m1972\u001b[0m\u001b[32m \u001b[0m│\u001b[34m \u001b[0m\u001b[34m    9.2    \u001b[0m\u001b[34m \u001b[0m│\n",
              "│\u001b[36m \u001b[0m\u001b[36m \u001b[0m\u001b[1;36m3\u001b[0m\u001b[36m  \u001b[0m\u001b[36m \u001b[0m│\u001b[33m \u001b[0m\u001b[33m3. The Dark Knight                                  \u001b[0m\u001b[33m \u001b[0m│\u001b[32m \u001b[0m\u001b[32m2008\u001b[0m\u001b[32m \u001b[0m│\u001b[34m \u001b[0m\u001b[34m    9.0    \u001b[0m\u001b[34m \u001b[0m│\n",
              "│\u001b[36m \u001b[0m\u001b[36m \u001b[0m\u001b[1;36m4\u001b[0m\u001b[36m  \u001b[0m\u001b[36m \u001b[0m│\u001b[33m \u001b[0m\u001b[33m4. The Godfather Part II                            \u001b[0m\u001b[33m \u001b[0m│\u001b[32m \u001b[0m\u001b[32m1974\u001b[0m\u001b[32m \u001b[0m│\u001b[34m \u001b[0m\u001b[34m    9.0    \u001b[0m\u001b[34m \u001b[0m│\n",
              "│\u001b[36m \u001b[0m\u001b[36m \u001b[0m\u001b[1;36m5\u001b[0m\u001b[36m  \u001b[0m\u001b[36m \u001b[0m│\u001b[33m \u001b[0m\u001b[33m5. 12 Angry Men                                     \u001b[0m\u001b[33m \u001b[0m│\u001b[32m \u001b[0m\u001b[32m1957\u001b[0m\u001b[32m \u001b[0m│\u001b[34m \u001b[0m\u001b[34m    9.0    \u001b[0m\u001b[34m \u001b[0m│\n",
              "│\u001b[36m \u001b[0m\u001b[36m \u001b[0m\u001b[1;36m6\u001b[0m\u001b[36m  \u001b[0m\u001b[36m \u001b[0m│\u001b[33m \u001b[0m\u001b[33m6. The Lord of the Rings: The Return of the King    \u001b[0m\u001b[33m \u001b[0m│\u001b[32m \u001b[0m\u001b[32m2003\u001b[0m\u001b[32m \u001b[0m│\u001b[34m \u001b[0m\u001b[34m    9.0    \u001b[0m\u001b[34m \u001b[0m│\n",
              "│\u001b[36m \u001b[0m\u001b[36m \u001b[0m\u001b[1;36m7\u001b[0m\u001b[36m  \u001b[0m\u001b[36m \u001b[0m│\u001b[33m \u001b[0m\u001b[33m7. Schindler's List                                 \u001b[0m\u001b[33m \u001b[0m│\u001b[32m \u001b[0m\u001b[32m1993\u001b[0m\u001b[32m \u001b[0m│\u001b[34m \u001b[0m\u001b[34m    9.0    \u001b[0m\u001b[34m \u001b[0m│\n",
              "│\u001b[36m \u001b[0m\u001b[36m \u001b[0m\u001b[1;36m8\u001b[0m\u001b[36m  \u001b[0m\u001b[36m \u001b[0m│\u001b[33m \u001b[0m\u001b[33m8. Pulp Fiction                                     \u001b[0m\u001b[33m \u001b[0m│\u001b[32m \u001b[0m\u001b[32m1994\u001b[0m\u001b[32m \u001b[0m│\u001b[34m \u001b[0m\u001b[34m    8.9    \u001b[0m\u001b[34m \u001b[0m│\n",
              "│\u001b[36m \u001b[0m\u001b[36m \u001b[0m\u001b[1;36m9\u001b[0m\u001b[36m  \u001b[0m\u001b[36m \u001b[0m│\u001b[33m \u001b[0m\u001b[33m9. The Lord of the Rings: The Fellowship of the Ring\u001b[0m\u001b[33m \u001b[0m│\u001b[32m \u001b[0m\u001b[32m2001\u001b[0m\u001b[32m \u001b[0m│\u001b[34m \u001b[0m\u001b[34m    8.9    \u001b[0m\u001b[34m \u001b[0m│\n",
              "│\u001b[36m \u001b[0m\u001b[36m \u001b[0m\u001b[1;36m10\u001b[0m\u001b[36m \u001b[0m\u001b[36m \u001b[0m│\u001b[33m \u001b[0m\u001b[33m10. The Good, the Bad and the Ugly                  \u001b[0m\u001b[33m \u001b[0m│\u001b[32m \u001b[0m\u001b[32m1966\u001b[0m\u001b[32m \u001b[0m│\u001b[34m \u001b[0m\u001b[34m    8.8    \u001b[0m\u001b[34m \u001b[0m│\n",
              "└──────┴──────────────────────────────────────────────────────┴──────┴─────────────┘\n"
            ],
            "text/html": [
              "<pre style=\"white-space:pre;overflow-x:auto;line-height:normal;font-family:Menlo,'DejaVu Sans Mono',consolas,'Courier New',monospace\"><span style=\"font-style: italic\">                                   🎬 Top Movies                                    </span>\n",
              "┏━━━━━━┳━━━━━━━━━━━━━━━━━━━━━━━━━━━━━━━━━━━━━━━━━━━━━━━━━━━━━━┳━━━━━━┳━━━━━━━━━━━━━┓\n",
              "┃<span style=\"color: #800080; text-decoration-color: #800080; font-weight: bold\"> Rank </span>┃<span style=\"color: #800080; text-decoration-color: #800080; font-weight: bold\"> Title                                                </span>┃<span style=\"color: #800080; text-decoration-color: #800080; font-weight: bold\"> Year </span>┃<span style=\"color: #800080; text-decoration-color: #800080; font-weight: bold\"> IMDb Rating </span>┃\n",
              "┡━━━━━━╇━━━━━━━━━━━━━━━━━━━━━━━━━━━━━━━━━━━━━━━━━━━━━━━━━━━━━━╇━━━━━━╇━━━━━━━━━━━━━┩\n",
              "│<span style=\"color: #008080; text-decoration-color: #008080\">  </span><span style=\"color: #008080; text-decoration-color: #008080; font-weight: bold\">1</span><span style=\"color: #008080; text-decoration-color: #008080\">   </span>│<span style=\"color: #808000; text-decoration-color: #808000\"> 1. The Shawshank Redemption                          </span>│<span style=\"color: #008000; text-decoration-color: #008000\"> 1994 </span>│<span style=\"color: #000080; text-decoration-color: #000080\">     9.3     </span>│\n",
              "│<span style=\"color: #008080; text-decoration-color: #008080\">  </span><span style=\"color: #008080; text-decoration-color: #008080; font-weight: bold\">2</span><span style=\"color: #008080; text-decoration-color: #008080\">   </span>│<span style=\"color: #808000; text-decoration-color: #808000\"> 2. The Godfather                                     </span>│<span style=\"color: #008000; text-decoration-color: #008000\"> 1972 </span>│<span style=\"color: #000080; text-decoration-color: #000080\">     9.2     </span>│\n",
              "│<span style=\"color: #008080; text-decoration-color: #008080\">  </span><span style=\"color: #008080; text-decoration-color: #008080; font-weight: bold\">3</span><span style=\"color: #008080; text-decoration-color: #008080\">   </span>│<span style=\"color: #808000; text-decoration-color: #808000\"> 3. The Dark Knight                                   </span>│<span style=\"color: #008000; text-decoration-color: #008000\"> 2008 </span>│<span style=\"color: #000080; text-decoration-color: #000080\">     9.0     </span>│\n",
              "│<span style=\"color: #008080; text-decoration-color: #008080\">  </span><span style=\"color: #008080; text-decoration-color: #008080; font-weight: bold\">4</span><span style=\"color: #008080; text-decoration-color: #008080\">   </span>│<span style=\"color: #808000; text-decoration-color: #808000\"> 4. The Godfather Part II                             </span>│<span style=\"color: #008000; text-decoration-color: #008000\"> 1974 </span>│<span style=\"color: #000080; text-decoration-color: #000080\">     9.0     </span>│\n",
              "│<span style=\"color: #008080; text-decoration-color: #008080\">  </span><span style=\"color: #008080; text-decoration-color: #008080; font-weight: bold\">5</span><span style=\"color: #008080; text-decoration-color: #008080\">   </span>│<span style=\"color: #808000; text-decoration-color: #808000\"> 5. 12 Angry Men                                      </span>│<span style=\"color: #008000; text-decoration-color: #008000\"> 1957 </span>│<span style=\"color: #000080; text-decoration-color: #000080\">     9.0     </span>│\n",
              "│<span style=\"color: #008080; text-decoration-color: #008080\">  </span><span style=\"color: #008080; text-decoration-color: #008080; font-weight: bold\">6</span><span style=\"color: #008080; text-decoration-color: #008080\">   </span>│<span style=\"color: #808000; text-decoration-color: #808000\"> 6. The Lord of the Rings: The Return of the King     </span>│<span style=\"color: #008000; text-decoration-color: #008000\"> 2003 </span>│<span style=\"color: #000080; text-decoration-color: #000080\">     9.0     </span>│\n",
              "│<span style=\"color: #008080; text-decoration-color: #008080\">  </span><span style=\"color: #008080; text-decoration-color: #008080; font-weight: bold\">7</span><span style=\"color: #008080; text-decoration-color: #008080\">   </span>│<span style=\"color: #808000; text-decoration-color: #808000\"> 7. Schindler's List                                  </span>│<span style=\"color: #008000; text-decoration-color: #008000\"> 1993 </span>│<span style=\"color: #000080; text-decoration-color: #000080\">     9.0     </span>│\n",
              "│<span style=\"color: #008080; text-decoration-color: #008080\">  </span><span style=\"color: #008080; text-decoration-color: #008080; font-weight: bold\">8</span><span style=\"color: #008080; text-decoration-color: #008080\">   </span>│<span style=\"color: #808000; text-decoration-color: #808000\"> 8. Pulp Fiction                                      </span>│<span style=\"color: #008000; text-decoration-color: #008000\"> 1994 </span>│<span style=\"color: #000080; text-decoration-color: #000080\">     8.9     </span>│\n",
              "│<span style=\"color: #008080; text-decoration-color: #008080\">  </span><span style=\"color: #008080; text-decoration-color: #008080; font-weight: bold\">9</span><span style=\"color: #008080; text-decoration-color: #008080\">   </span>│<span style=\"color: #808000; text-decoration-color: #808000\"> 9. The Lord of the Rings: The Fellowship of the Ring </span>│<span style=\"color: #008000; text-decoration-color: #008000\"> 2001 </span>│<span style=\"color: #000080; text-decoration-color: #000080\">     8.9     </span>│\n",
              "│<span style=\"color: #008080; text-decoration-color: #008080\">  </span><span style=\"color: #008080; text-decoration-color: #008080; font-weight: bold\">10</span><span style=\"color: #008080; text-decoration-color: #008080\">  </span>│<span style=\"color: #808000; text-decoration-color: #808000\"> 10. The Good, the Bad and the Ugly                   </span>│<span style=\"color: #008000; text-decoration-color: #008000\"> 1966 </span>│<span style=\"color: #000080; text-decoration-color: #000080\">     8.8     </span>│\n",
              "└──────┴──────────────────────────────────────────────────────┴──────┴─────────────┘\n",
              "</pre>\n"
            ]
          },
          "metadata": {}
        },
        {
          "output_type": "display_data",
          "data": {
            "text/plain": [
              "\u001b[3m                     🎬 Most Popular Movies                     \u001b[0m\n",
              "┏━━━━━━┳━━━━━━━━━━━━━━━━━━━━━━━━━━━━━━━━━━┳━━━━━━┳━━━━━━━━━━━━━┓\n",
              "┃\u001b[1;35m \u001b[0m\u001b[1;35mRank\u001b[0m\u001b[1;35m \u001b[0m┃\u001b[1;35m \u001b[0m\u001b[1;35mTitle                           \u001b[0m\u001b[1;35m \u001b[0m┃\u001b[1;35m \u001b[0m\u001b[1;35mYear\u001b[0m\u001b[1;35m \u001b[0m┃\u001b[1;35m \u001b[0m\u001b[1;35mIMDb Rating\u001b[0m\u001b[1;35m \u001b[0m┃\n",
              "┡━━━━━━╇━━━━━━━━━━━━━━━━━━━━━━━━━━━━━━━━━━╇━━━━━━╇━━━━━━━━━━━━━┩\n",
              "│\u001b[36m \u001b[0m\u001b[36m \u001b[0m\u001b[1;36m1\u001b[0m\u001b[36m  \u001b[0m\u001b[36m \u001b[0m│\u001b[33m \u001b[0m\u001b[33mCaptain America: Brave New World\u001b[0m\u001b[33m \u001b[0m│\u001b[32m \u001b[0m\u001b[32m2025\u001b[0m\u001b[32m \u001b[0m│\u001b[34m \u001b[0m\u001b[34m    6.1    \u001b[0m\u001b[34m \u001b[0m│\n",
              "│\u001b[36m \u001b[0m\u001b[36m \u001b[0m\u001b[1;36m2\u001b[0m\u001b[36m  \u001b[0m\u001b[36m \u001b[0m│\u001b[33m \u001b[0m\u001b[33mThe Gorge                       \u001b[0m\u001b[33m \u001b[0m│\u001b[32m \u001b[0m\u001b[32m2025\u001b[0m\u001b[32m \u001b[0m│\u001b[34m \u001b[0m\u001b[34m    6.8    \u001b[0m\u001b[34m \u001b[0m│\n",
              "│\u001b[36m \u001b[0m\u001b[36m \u001b[0m\u001b[1;36m3\u001b[0m\u001b[36m  \u001b[0m\u001b[36m \u001b[0m│\u001b[33m \u001b[0m\u001b[33mThunderbolts*                   \u001b[0m\u001b[33m \u001b[0m│\u001b[32m \u001b[0m\u001b[32m2025\u001b[0m\u001b[32m \u001b[0m│\u001b[34m \u001b[0m\u001b[34m    N/A    \u001b[0m\u001b[34m \u001b[0m│\n",
              "│\u001b[36m \u001b[0m\u001b[36m \u001b[0m\u001b[1;36m4\u001b[0m\u001b[36m  \u001b[0m\u001b[36m \u001b[0m│\u001b[33m \u001b[0m\u001b[33mNosferatu                       \u001b[0m\u001b[33m \u001b[0m│\u001b[32m \u001b[0m\u001b[32m2024\u001b[0m\u001b[32m \u001b[0m│\u001b[34m \u001b[0m\u001b[34m    7.3    \u001b[0m\u001b[34m \u001b[0m│\n",
              "│\u001b[36m \u001b[0m\u001b[36m \u001b[0m\u001b[1;36m5\u001b[0m\u001b[36m  \u001b[0m\u001b[36m \u001b[0m│\u001b[33m \u001b[0m\u001b[33mBridget Jones: Mad About the Boy\u001b[0m\u001b[33m \u001b[0m│\u001b[32m \u001b[0m\u001b[32m2025\u001b[0m\u001b[32m \u001b[0m│\u001b[34m \u001b[0m\u001b[34m    6.8    \u001b[0m\u001b[34m \u001b[0m│\n",
              "│\u001b[36m \u001b[0m\u001b[36m \u001b[0m\u001b[1;36m6\u001b[0m\u001b[36m  \u001b[0m\u001b[36m \u001b[0m│\u001b[33m \u001b[0m\u001b[33mAnora                           \u001b[0m\u001b[33m \u001b[0m│\u001b[32m \u001b[0m\u001b[32m2024\u001b[0m\u001b[32m \u001b[0m│\u001b[34m \u001b[0m\u001b[34m    7.7    \u001b[0m\u001b[34m \u001b[0m│\n",
              "│\u001b[36m \u001b[0m\u001b[36m \u001b[0m\u001b[1;36m7\u001b[0m\u001b[36m  \u001b[0m\u001b[36m \u001b[0m│\u001b[33m \u001b[0m\u001b[33mThe Brutalist                   \u001b[0m\u001b[33m \u001b[0m│\u001b[32m \u001b[0m\u001b[32m2024\u001b[0m\u001b[32m \u001b[0m│\u001b[34m \u001b[0m\u001b[34m    7.9    \u001b[0m\u001b[34m \u001b[0m│\n",
              "│\u001b[36m \u001b[0m\u001b[36m \u001b[0m\u001b[1;36m8\u001b[0m\u001b[36m  \u001b[0m\u001b[36m \u001b[0m│\u001b[33m \u001b[0m\u001b[33mCompanion                       \u001b[0m\u001b[33m \u001b[0m│\u001b[32m \u001b[0m\u001b[32m2025\u001b[0m\u001b[32m \u001b[0m│\u001b[34m \u001b[0m\u001b[34m    7.3    \u001b[0m\u001b[34m \u001b[0m│\n",
              "│\u001b[36m \u001b[0m\u001b[36m \u001b[0m\u001b[1;36m9\u001b[0m\u001b[36m  \u001b[0m\u001b[36m \u001b[0m│\u001b[33m \u001b[0m\u001b[33mHow to Train Your Dragon        \u001b[0m\u001b[33m \u001b[0m│\u001b[32m \u001b[0m\u001b[32m2025\u001b[0m\u001b[32m \u001b[0m│\u001b[34m \u001b[0m\u001b[34m    N/A    \u001b[0m\u001b[34m \u001b[0m│\n",
              "│\u001b[36m \u001b[0m\u001b[36m \u001b[0m\u001b[1;36m10\u001b[0m\u001b[36m \u001b[0m\u001b[36m \u001b[0m│\u001b[33m \u001b[0m\u001b[33mThe Substance                   \u001b[0m\u001b[33m \u001b[0m│\u001b[32m \u001b[0m\u001b[32m2024\u001b[0m\u001b[32m \u001b[0m│\u001b[34m \u001b[0m\u001b[34m    7.3    \u001b[0m\u001b[34m \u001b[0m│\n",
              "└──────┴──────────────────────────────────┴──────┴─────────────┘\n"
            ],
            "text/html": [
              "<pre style=\"white-space:pre;overflow-x:auto;line-height:normal;font-family:Menlo,'DejaVu Sans Mono',consolas,'Courier New',monospace\"><span style=\"font-style: italic\">                     🎬 Most Popular Movies                     </span>\n",
              "┏━━━━━━┳━━━━━━━━━━━━━━━━━━━━━━━━━━━━━━━━━━┳━━━━━━┳━━━━━━━━━━━━━┓\n",
              "┃<span style=\"color: #800080; text-decoration-color: #800080; font-weight: bold\"> Rank </span>┃<span style=\"color: #800080; text-decoration-color: #800080; font-weight: bold\"> Title                            </span>┃<span style=\"color: #800080; text-decoration-color: #800080; font-weight: bold\"> Year </span>┃<span style=\"color: #800080; text-decoration-color: #800080; font-weight: bold\"> IMDb Rating </span>┃\n",
              "┡━━━━━━╇━━━━━━━━━━━━━━━━━━━━━━━━━━━━━━━━━━╇━━━━━━╇━━━━━━━━━━━━━┩\n",
              "│<span style=\"color: #008080; text-decoration-color: #008080\">  </span><span style=\"color: #008080; text-decoration-color: #008080; font-weight: bold\">1</span><span style=\"color: #008080; text-decoration-color: #008080\">   </span>│<span style=\"color: #808000; text-decoration-color: #808000\"> Captain America: Brave New World </span>│<span style=\"color: #008000; text-decoration-color: #008000\"> 2025 </span>│<span style=\"color: #000080; text-decoration-color: #000080\">     6.1     </span>│\n",
              "│<span style=\"color: #008080; text-decoration-color: #008080\">  </span><span style=\"color: #008080; text-decoration-color: #008080; font-weight: bold\">2</span><span style=\"color: #008080; text-decoration-color: #008080\">   </span>│<span style=\"color: #808000; text-decoration-color: #808000\"> The Gorge                        </span>│<span style=\"color: #008000; text-decoration-color: #008000\"> 2025 </span>│<span style=\"color: #000080; text-decoration-color: #000080\">     6.8     </span>│\n",
              "│<span style=\"color: #008080; text-decoration-color: #008080\">  </span><span style=\"color: #008080; text-decoration-color: #008080; font-weight: bold\">3</span><span style=\"color: #008080; text-decoration-color: #008080\">   </span>│<span style=\"color: #808000; text-decoration-color: #808000\"> Thunderbolts*                    </span>│<span style=\"color: #008000; text-decoration-color: #008000\"> 2025 </span>│<span style=\"color: #000080; text-decoration-color: #000080\">     N/A     </span>│\n",
              "│<span style=\"color: #008080; text-decoration-color: #008080\">  </span><span style=\"color: #008080; text-decoration-color: #008080; font-weight: bold\">4</span><span style=\"color: #008080; text-decoration-color: #008080\">   </span>│<span style=\"color: #808000; text-decoration-color: #808000\"> Nosferatu                        </span>│<span style=\"color: #008000; text-decoration-color: #008000\"> 2024 </span>│<span style=\"color: #000080; text-decoration-color: #000080\">     7.3     </span>│\n",
              "│<span style=\"color: #008080; text-decoration-color: #008080\">  </span><span style=\"color: #008080; text-decoration-color: #008080; font-weight: bold\">5</span><span style=\"color: #008080; text-decoration-color: #008080\">   </span>│<span style=\"color: #808000; text-decoration-color: #808000\"> Bridget Jones: Mad About the Boy </span>│<span style=\"color: #008000; text-decoration-color: #008000\"> 2025 </span>│<span style=\"color: #000080; text-decoration-color: #000080\">     6.8     </span>│\n",
              "│<span style=\"color: #008080; text-decoration-color: #008080\">  </span><span style=\"color: #008080; text-decoration-color: #008080; font-weight: bold\">6</span><span style=\"color: #008080; text-decoration-color: #008080\">   </span>│<span style=\"color: #808000; text-decoration-color: #808000\"> Anora                            </span>│<span style=\"color: #008000; text-decoration-color: #008000\"> 2024 </span>│<span style=\"color: #000080; text-decoration-color: #000080\">     7.7     </span>│\n",
              "│<span style=\"color: #008080; text-decoration-color: #008080\">  </span><span style=\"color: #008080; text-decoration-color: #008080; font-weight: bold\">7</span><span style=\"color: #008080; text-decoration-color: #008080\">   </span>│<span style=\"color: #808000; text-decoration-color: #808000\"> The Brutalist                    </span>│<span style=\"color: #008000; text-decoration-color: #008000\"> 2024 </span>│<span style=\"color: #000080; text-decoration-color: #000080\">     7.9     </span>│\n",
              "│<span style=\"color: #008080; text-decoration-color: #008080\">  </span><span style=\"color: #008080; text-decoration-color: #008080; font-weight: bold\">8</span><span style=\"color: #008080; text-decoration-color: #008080\">   </span>│<span style=\"color: #808000; text-decoration-color: #808000\"> Companion                        </span>│<span style=\"color: #008000; text-decoration-color: #008000\"> 2025 </span>│<span style=\"color: #000080; text-decoration-color: #000080\">     7.3     </span>│\n",
              "│<span style=\"color: #008080; text-decoration-color: #008080\">  </span><span style=\"color: #008080; text-decoration-color: #008080; font-weight: bold\">9</span><span style=\"color: #008080; text-decoration-color: #008080\">   </span>│<span style=\"color: #808000; text-decoration-color: #808000\"> How to Train Your Dragon         </span>│<span style=\"color: #008000; text-decoration-color: #008000\"> 2025 </span>│<span style=\"color: #000080; text-decoration-color: #000080\">     N/A     </span>│\n",
              "│<span style=\"color: #008080; text-decoration-color: #008080\">  </span><span style=\"color: #008080; text-decoration-color: #008080; font-weight: bold\">10</span><span style=\"color: #008080; text-decoration-color: #008080\">  </span>│<span style=\"color: #808000; text-decoration-color: #808000\"> The Substance                    </span>│<span style=\"color: #008000; text-decoration-color: #008000\"> 2024 </span>│<span style=\"color: #000080; text-decoration-color: #000080\">     7.3     </span>│\n",
              "└──────┴──────────────────────────────────┴──────┴─────────────┘\n",
              "</pre>\n"
            ]
          },
          "metadata": {}
        },
        {
          "output_type": "display_data",
          "data": {
            "text/plain": [
              "\u001b[3m                           🎬 Box Office                           \u001b[0m\n",
              "┏━━━━━━┳━━━━━━━━━━━━━━━━━━━━━━━━━━━━━━━━━━━━━┳━━━━━━┳━━━━━━━━━━━━━┓\n",
              "┃\u001b[1;35m \u001b[0m\u001b[1;35mRank\u001b[0m\u001b[1;35m \u001b[0m┃\u001b[1;35m \u001b[0m\u001b[1;35mTitle                              \u001b[0m\u001b[1;35m \u001b[0m┃\u001b[1;35m \u001b[0m\u001b[1;35mYear\u001b[0m\u001b[1;35m \u001b[0m┃\u001b[1;35m \u001b[0m\u001b[1;35mIMDb Rating\u001b[0m\u001b[1;35m \u001b[0m┃\n",
              "┡━━━━━━╇━━━━━━━━━━━━━━━━━━━━━━━━━━━━━━━━━━━━━╇━━━━━━╇━━━━━━━━━━━━━┩\n",
              "│\u001b[36m \u001b[0m\u001b[36m \u001b[0m\u001b[1;36m1\u001b[0m\u001b[36m  \u001b[0m\u001b[36m \u001b[0m│\u001b[33m \u001b[0m\u001b[33m1. Captain America: Brave New World\u001b[0m\u001b[33m \u001b[0m│\u001b[32m \u001b[0m\u001b[32mN/A \u001b[0m\u001b[32m \u001b[0m│\u001b[34m \u001b[0m\u001b[34m    6.1    \u001b[0m\u001b[34m \u001b[0m│\n",
              "│\u001b[36m \u001b[0m\u001b[36m \u001b[0m\u001b[1;36m2\u001b[0m\u001b[36m  \u001b[0m\u001b[36m \u001b[0m│\u001b[33m \u001b[0m\u001b[33m2. Paddington in Peru              \u001b[0m\u001b[33m \u001b[0m│\u001b[32m \u001b[0m\u001b[32mN/A \u001b[0m\u001b[32m \u001b[0m│\u001b[34m \u001b[0m\u001b[34m    6.8    \u001b[0m\u001b[34m \u001b[0m│\n",
              "│\u001b[36m \u001b[0m\u001b[36m \u001b[0m\u001b[1;36m3\u001b[0m\u001b[36m  \u001b[0m\u001b[36m \u001b[0m│\u001b[33m \u001b[0m\u001b[33m3. Heart Eyes                      \u001b[0m\u001b[33m \u001b[0m│\u001b[32m \u001b[0m\u001b[32mN/A \u001b[0m\u001b[32m \u001b[0m│\u001b[34m \u001b[0m\u001b[34m    6.6    \u001b[0m\u001b[34m \u001b[0m│\n",
              "│\u001b[36m \u001b[0m\u001b[36m \u001b[0m\u001b[1;36m4\u001b[0m\u001b[36m  \u001b[0m\u001b[36m \u001b[0m│\u001b[33m \u001b[0m\u001b[33m4. Dog Man                         \u001b[0m\u001b[33m \u001b[0m│\u001b[32m \u001b[0m\u001b[32mN/A \u001b[0m\u001b[32m \u001b[0m│\u001b[34m \u001b[0m\u001b[34m    6.4    \u001b[0m\u001b[34m \u001b[0m│\n",
              "│\u001b[36m \u001b[0m\u001b[36m \u001b[0m\u001b[1;36m5\u001b[0m\u001b[36m  \u001b[0m\u001b[36m \u001b[0m│\u001b[33m \u001b[0m\u001b[33m5. Ne Zha 2                        \u001b[0m\u001b[33m \u001b[0m│\u001b[32m \u001b[0m\u001b[32mN/A \u001b[0m\u001b[32m \u001b[0m│\u001b[34m \u001b[0m\u001b[34m    8.4    \u001b[0m\u001b[34m \u001b[0m│\n",
              "│\u001b[36m \u001b[0m\u001b[36m \u001b[0m\u001b[1;36m6\u001b[0m\u001b[36m  \u001b[0m\u001b[36m \u001b[0m│\u001b[33m \u001b[0m\u001b[33m6. Love Hurts                      \u001b[0m\u001b[33m \u001b[0m│\u001b[32m \u001b[0m\u001b[32mN/A \u001b[0m\u001b[32m \u001b[0m│\u001b[34m \u001b[0m\u001b[34m    5.4    \u001b[0m\u001b[34m \u001b[0m│\n",
              "│\u001b[36m \u001b[0m\u001b[36m \u001b[0m\u001b[1;36m7\u001b[0m\u001b[36m  \u001b[0m\u001b[36m \u001b[0m│\u001b[33m \u001b[0m\u001b[33m7. Mufasa: The Lion King           \u001b[0m\u001b[33m \u001b[0m│\u001b[32m \u001b[0m\u001b[32mN/A \u001b[0m\u001b[32m \u001b[0m│\u001b[34m \u001b[0m\u001b[34m    6.7    \u001b[0m\u001b[34m \u001b[0m│\n",
              "│\u001b[36m \u001b[0m\u001b[36m \u001b[0m\u001b[1;36m8\u001b[0m\u001b[36m  \u001b[0m\u001b[36m \u001b[0m│\u001b[33m \u001b[0m\u001b[33m8. One of Them Days                \u001b[0m\u001b[33m \u001b[0m│\u001b[32m \u001b[0m\u001b[32mN/A \u001b[0m\u001b[32m \u001b[0m│\u001b[34m \u001b[0m\u001b[34m    6.8    \u001b[0m\u001b[34m \u001b[0m│\n",
              "│\u001b[36m \u001b[0m\u001b[36m \u001b[0m\u001b[1;36m9\u001b[0m\u001b[36m  \u001b[0m\u001b[36m \u001b[0m│\u001b[33m \u001b[0m\u001b[33m9. Companion                       \u001b[0m\u001b[33m \u001b[0m│\u001b[32m \u001b[0m\u001b[32mN/A \u001b[0m\u001b[32m \u001b[0m│\u001b[34m \u001b[0m\u001b[34m    7.3    \u001b[0m\u001b[34m \u001b[0m│\n",
              "│\u001b[36m \u001b[0m\u001b[36m \u001b[0m\u001b[1;36m10\u001b[0m\u001b[36m \u001b[0m\u001b[36m \u001b[0m│\u001b[33m \u001b[0m\u001b[33m10. Becoming Led Zeppelin          \u001b[0m\u001b[33m \u001b[0m│\u001b[32m \u001b[0m\u001b[32mN/A \u001b[0m\u001b[32m \u001b[0m│\u001b[34m \u001b[0m\u001b[34m    7.9    \u001b[0m\u001b[34m \u001b[0m│\n",
              "└──────┴─────────────────────────────────────┴──────┴─────────────┘\n"
            ],
            "text/html": [
              "<pre style=\"white-space:pre;overflow-x:auto;line-height:normal;font-family:Menlo,'DejaVu Sans Mono',consolas,'Courier New',monospace\"><span style=\"font-style: italic\">                           🎬 Box Office                           </span>\n",
              "┏━━━━━━┳━━━━━━━━━━━━━━━━━━━━━━━━━━━━━━━━━━━━━┳━━━━━━┳━━━━━━━━━━━━━┓\n",
              "┃<span style=\"color: #800080; text-decoration-color: #800080; font-weight: bold\"> Rank </span>┃<span style=\"color: #800080; text-decoration-color: #800080; font-weight: bold\"> Title                               </span>┃<span style=\"color: #800080; text-decoration-color: #800080; font-weight: bold\"> Year </span>┃<span style=\"color: #800080; text-decoration-color: #800080; font-weight: bold\"> IMDb Rating </span>┃\n",
              "┡━━━━━━╇━━━━━━━━━━━━━━━━━━━━━━━━━━━━━━━━━━━━━╇━━━━━━╇━━━━━━━━━━━━━┩\n",
              "│<span style=\"color: #008080; text-decoration-color: #008080\">  </span><span style=\"color: #008080; text-decoration-color: #008080; font-weight: bold\">1</span><span style=\"color: #008080; text-decoration-color: #008080\">   </span>│<span style=\"color: #808000; text-decoration-color: #808000\"> 1. Captain America: Brave New World </span>│<span style=\"color: #008000; text-decoration-color: #008000\"> N/A  </span>│<span style=\"color: #000080; text-decoration-color: #000080\">     6.1     </span>│\n",
              "│<span style=\"color: #008080; text-decoration-color: #008080\">  </span><span style=\"color: #008080; text-decoration-color: #008080; font-weight: bold\">2</span><span style=\"color: #008080; text-decoration-color: #008080\">   </span>│<span style=\"color: #808000; text-decoration-color: #808000\"> 2. Paddington in Peru               </span>│<span style=\"color: #008000; text-decoration-color: #008000\"> N/A  </span>│<span style=\"color: #000080; text-decoration-color: #000080\">     6.8     </span>│\n",
              "│<span style=\"color: #008080; text-decoration-color: #008080\">  </span><span style=\"color: #008080; text-decoration-color: #008080; font-weight: bold\">3</span><span style=\"color: #008080; text-decoration-color: #008080\">   </span>│<span style=\"color: #808000; text-decoration-color: #808000\"> 3. Heart Eyes                       </span>│<span style=\"color: #008000; text-decoration-color: #008000\"> N/A  </span>│<span style=\"color: #000080; text-decoration-color: #000080\">     6.6     </span>│\n",
              "│<span style=\"color: #008080; text-decoration-color: #008080\">  </span><span style=\"color: #008080; text-decoration-color: #008080; font-weight: bold\">4</span><span style=\"color: #008080; text-decoration-color: #008080\">   </span>│<span style=\"color: #808000; text-decoration-color: #808000\"> 4. Dog Man                          </span>│<span style=\"color: #008000; text-decoration-color: #008000\"> N/A  </span>│<span style=\"color: #000080; text-decoration-color: #000080\">     6.4     </span>│\n",
              "│<span style=\"color: #008080; text-decoration-color: #008080\">  </span><span style=\"color: #008080; text-decoration-color: #008080; font-weight: bold\">5</span><span style=\"color: #008080; text-decoration-color: #008080\">   </span>│<span style=\"color: #808000; text-decoration-color: #808000\"> 5. Ne Zha 2                         </span>│<span style=\"color: #008000; text-decoration-color: #008000\"> N/A  </span>│<span style=\"color: #000080; text-decoration-color: #000080\">     8.4     </span>│\n",
              "│<span style=\"color: #008080; text-decoration-color: #008080\">  </span><span style=\"color: #008080; text-decoration-color: #008080; font-weight: bold\">6</span><span style=\"color: #008080; text-decoration-color: #008080\">   </span>│<span style=\"color: #808000; text-decoration-color: #808000\"> 6. Love Hurts                       </span>│<span style=\"color: #008000; text-decoration-color: #008000\"> N/A  </span>│<span style=\"color: #000080; text-decoration-color: #000080\">     5.4     </span>│\n",
              "│<span style=\"color: #008080; text-decoration-color: #008080\">  </span><span style=\"color: #008080; text-decoration-color: #008080; font-weight: bold\">7</span><span style=\"color: #008080; text-decoration-color: #008080\">   </span>│<span style=\"color: #808000; text-decoration-color: #808000\"> 7. Mufasa: The Lion King            </span>│<span style=\"color: #008000; text-decoration-color: #008000\"> N/A  </span>│<span style=\"color: #000080; text-decoration-color: #000080\">     6.7     </span>│\n",
              "│<span style=\"color: #008080; text-decoration-color: #008080\">  </span><span style=\"color: #008080; text-decoration-color: #008080; font-weight: bold\">8</span><span style=\"color: #008080; text-decoration-color: #008080\">   </span>│<span style=\"color: #808000; text-decoration-color: #808000\"> 8. One of Them Days                 </span>│<span style=\"color: #008000; text-decoration-color: #008000\"> N/A  </span>│<span style=\"color: #000080; text-decoration-color: #000080\">     6.8     </span>│\n",
              "│<span style=\"color: #008080; text-decoration-color: #008080\">  </span><span style=\"color: #008080; text-decoration-color: #008080; font-weight: bold\">9</span><span style=\"color: #008080; text-decoration-color: #008080\">   </span>│<span style=\"color: #808000; text-decoration-color: #808000\"> 9. Companion                        </span>│<span style=\"color: #008000; text-decoration-color: #008000\"> N/A  </span>│<span style=\"color: #000080; text-decoration-color: #000080\">     7.3     </span>│\n",
              "│<span style=\"color: #008080; text-decoration-color: #008080\">  </span><span style=\"color: #008080; text-decoration-color: #008080; font-weight: bold\">10</span><span style=\"color: #008080; text-decoration-color: #008080\">  </span>│<span style=\"color: #808000; text-decoration-color: #808000\"> 10. Becoming Led Zeppelin           </span>│<span style=\"color: #008000; text-decoration-color: #008000\"> N/A  </span>│<span style=\"color: #000080; text-decoration-color: #000080\">     7.9     </span>│\n",
              "└──────┴─────────────────────────────────────┴──────┴─────────────┘\n",
              "</pre>\n"
            ]
          },
          "metadata": {}
        },
        {
          "output_type": "display_data",
          "data": {
            "text/plain": [
              "\u001b[3m                          🎬 Top TV Shows                           \u001b[0m\n",
              "┏━━━━━━┳━━━━━━━━━━━━━━━━━━━━━━━━━━━━━━━━━┳━━━━━━━━━━━┳━━━━━━━━━━━━━┓\n",
              "┃\u001b[1;35m \u001b[0m\u001b[1;35mRank\u001b[0m\u001b[1;35m \u001b[0m┃\u001b[1;35m \u001b[0m\u001b[1;35mTitle                          \u001b[0m\u001b[1;35m \u001b[0m┃\u001b[1;35m \u001b[0m\u001b[1;35m  Year   \u001b[0m\u001b[1;35m \u001b[0m┃\u001b[1;35m \u001b[0m\u001b[1;35mIMDb Rating\u001b[0m\u001b[1;35m \u001b[0m┃\n",
              "┡━━━━━━╇━━━━━━━━━━━━━━━━━━━━━━━━━━━━━━━━━╇━━━━━━━━━━━╇━━━━━━━━━━━━━┩\n",
              "│\u001b[36m \u001b[0m\u001b[36m \u001b[0m\u001b[1;36m1\u001b[0m\u001b[36m  \u001b[0m\u001b[36m \u001b[0m│\u001b[33m \u001b[0m\u001b[33m1. Breaking Bad                \u001b[0m\u001b[33m \u001b[0m│\u001b[32m \u001b[0m\u001b[32m2008–2013\u001b[0m\u001b[32m \u001b[0m│\u001b[34m \u001b[0m\u001b[34m    9.5    \u001b[0m\u001b[34m \u001b[0m│\n",
              "│\u001b[36m \u001b[0m\u001b[36m \u001b[0m\u001b[1;36m2\u001b[0m\u001b[36m  \u001b[0m\u001b[36m \u001b[0m│\u001b[33m \u001b[0m\u001b[33m2. Planet Earth II             \u001b[0m\u001b[33m \u001b[0m│\u001b[32m \u001b[0m\u001b[32m  2016   \u001b[0m\u001b[32m \u001b[0m│\u001b[34m \u001b[0m\u001b[34m    9.4    \u001b[0m\u001b[34m \u001b[0m│\n",
              "│\u001b[36m \u001b[0m\u001b[36m \u001b[0m\u001b[1;36m3\u001b[0m\u001b[36m  \u001b[0m\u001b[36m \u001b[0m│\u001b[33m \u001b[0m\u001b[33m3. Planet Earth                \u001b[0m\u001b[33m \u001b[0m│\u001b[32m \u001b[0m\u001b[32m  2006   \u001b[0m\u001b[32m \u001b[0m│\u001b[34m \u001b[0m\u001b[34m    9.4    \u001b[0m\u001b[34m \u001b[0m│\n",
              "│\u001b[36m \u001b[0m\u001b[36m \u001b[0m\u001b[1;36m4\u001b[0m\u001b[36m  \u001b[0m\u001b[36m \u001b[0m│\u001b[33m \u001b[0m\u001b[33m4. Band of Brothers            \u001b[0m\u001b[33m \u001b[0m│\u001b[32m \u001b[0m\u001b[32m  2001   \u001b[0m\u001b[32m \u001b[0m│\u001b[34m \u001b[0m\u001b[34m    9.4    \u001b[0m\u001b[34m \u001b[0m│\n",
              "│\u001b[36m \u001b[0m\u001b[36m \u001b[0m\u001b[1;36m5\u001b[0m\u001b[36m  \u001b[0m\u001b[36m \u001b[0m│\u001b[33m \u001b[0m\u001b[33m5. Chernobyl                   \u001b[0m\u001b[33m \u001b[0m│\u001b[32m \u001b[0m\u001b[32m  2019   \u001b[0m\u001b[32m \u001b[0m│\u001b[34m \u001b[0m\u001b[34m    9.3    \u001b[0m\u001b[34m \u001b[0m│\n",
              "│\u001b[36m \u001b[0m\u001b[36m \u001b[0m\u001b[1;36m6\u001b[0m\u001b[36m  \u001b[0m\u001b[36m \u001b[0m│\u001b[33m \u001b[0m\u001b[33m6. The Wire                    \u001b[0m\u001b[33m \u001b[0m│\u001b[32m \u001b[0m\u001b[32m2002–2008\u001b[0m\u001b[32m \u001b[0m│\u001b[34m \u001b[0m\u001b[34m    9.3    \u001b[0m\u001b[34m \u001b[0m│\n",
              "│\u001b[36m \u001b[0m\u001b[36m \u001b[0m\u001b[1;36m7\u001b[0m\u001b[36m  \u001b[0m\u001b[36m \u001b[0m│\u001b[33m \u001b[0m\u001b[33m7. Avatar: The Last Airbender  \u001b[0m\u001b[33m \u001b[0m│\u001b[32m \u001b[0m\u001b[32m2005–2008\u001b[0m\u001b[32m \u001b[0m│\u001b[34m \u001b[0m\u001b[34m    9.3    \u001b[0m\u001b[34m \u001b[0m│\n",
              "│\u001b[36m \u001b[0m\u001b[36m \u001b[0m\u001b[1;36m8\u001b[0m\u001b[36m  \u001b[0m\u001b[36m \u001b[0m│\u001b[33m \u001b[0m\u001b[33m8. Blue Planet II              \u001b[0m\u001b[33m \u001b[0m│\u001b[32m \u001b[0m\u001b[32m  2017   \u001b[0m\u001b[32m \u001b[0m│\u001b[34m \u001b[0m\u001b[34m    9.3    \u001b[0m\u001b[34m \u001b[0m│\n",
              "│\u001b[36m \u001b[0m\u001b[36m \u001b[0m\u001b[1;36m9\u001b[0m\u001b[36m  \u001b[0m\u001b[36m \u001b[0m│\u001b[33m \u001b[0m\u001b[33m9. The Sopranos                \u001b[0m\u001b[33m \u001b[0m│\u001b[32m \u001b[0m\u001b[32m1999–2007\u001b[0m\u001b[32m \u001b[0m│\u001b[34m \u001b[0m\u001b[34m    9.2    \u001b[0m\u001b[34m \u001b[0m│\n",
              "│\u001b[36m \u001b[0m\u001b[36m \u001b[0m\u001b[1;36m10\u001b[0m\u001b[36m \u001b[0m\u001b[36m \u001b[0m│\u001b[33m \u001b[0m\u001b[33m10. Cosmos: A Spacetime Odyssey\u001b[0m\u001b[33m \u001b[0m│\u001b[32m \u001b[0m\u001b[32m  2014   \u001b[0m\u001b[32m \u001b[0m│\u001b[34m \u001b[0m\u001b[34m    9.2    \u001b[0m\u001b[34m \u001b[0m│\n",
              "└──────┴─────────────────────────────────┴───────────┴─────────────┘\n"
            ],
            "text/html": [
              "<pre style=\"white-space:pre;overflow-x:auto;line-height:normal;font-family:Menlo,'DejaVu Sans Mono',consolas,'Courier New',monospace\"><span style=\"font-style: italic\">                          🎬 Top TV Shows                           </span>\n",
              "┏━━━━━━┳━━━━━━━━━━━━━━━━━━━━━━━━━━━━━━━━━┳━━━━━━━━━━━┳━━━━━━━━━━━━━┓\n",
              "┃<span style=\"color: #800080; text-decoration-color: #800080; font-weight: bold\"> Rank </span>┃<span style=\"color: #800080; text-decoration-color: #800080; font-weight: bold\"> Title                           </span>┃<span style=\"color: #800080; text-decoration-color: #800080; font-weight: bold\">   Year    </span>┃<span style=\"color: #800080; text-decoration-color: #800080; font-weight: bold\"> IMDb Rating </span>┃\n",
              "┡━━━━━━╇━━━━━━━━━━━━━━━━━━━━━━━━━━━━━━━━━╇━━━━━━━━━━━╇━━━━━━━━━━━━━┩\n",
              "│<span style=\"color: #008080; text-decoration-color: #008080\">  </span><span style=\"color: #008080; text-decoration-color: #008080; font-weight: bold\">1</span><span style=\"color: #008080; text-decoration-color: #008080\">   </span>│<span style=\"color: #808000; text-decoration-color: #808000\"> 1. Breaking Bad                 </span>│<span style=\"color: #008000; text-decoration-color: #008000\"> 2008–2013 </span>│<span style=\"color: #000080; text-decoration-color: #000080\">     9.5     </span>│\n",
              "│<span style=\"color: #008080; text-decoration-color: #008080\">  </span><span style=\"color: #008080; text-decoration-color: #008080; font-weight: bold\">2</span><span style=\"color: #008080; text-decoration-color: #008080\">   </span>│<span style=\"color: #808000; text-decoration-color: #808000\"> 2. Planet Earth II              </span>│<span style=\"color: #008000; text-decoration-color: #008000\">   2016    </span>│<span style=\"color: #000080; text-decoration-color: #000080\">     9.4     </span>│\n",
              "│<span style=\"color: #008080; text-decoration-color: #008080\">  </span><span style=\"color: #008080; text-decoration-color: #008080; font-weight: bold\">3</span><span style=\"color: #008080; text-decoration-color: #008080\">   </span>│<span style=\"color: #808000; text-decoration-color: #808000\"> 3. Planet Earth                 </span>│<span style=\"color: #008000; text-decoration-color: #008000\">   2006    </span>│<span style=\"color: #000080; text-decoration-color: #000080\">     9.4     </span>│\n",
              "│<span style=\"color: #008080; text-decoration-color: #008080\">  </span><span style=\"color: #008080; text-decoration-color: #008080; font-weight: bold\">4</span><span style=\"color: #008080; text-decoration-color: #008080\">   </span>│<span style=\"color: #808000; text-decoration-color: #808000\"> 4. Band of Brothers             </span>│<span style=\"color: #008000; text-decoration-color: #008000\">   2001    </span>│<span style=\"color: #000080; text-decoration-color: #000080\">     9.4     </span>│\n",
              "│<span style=\"color: #008080; text-decoration-color: #008080\">  </span><span style=\"color: #008080; text-decoration-color: #008080; font-weight: bold\">5</span><span style=\"color: #008080; text-decoration-color: #008080\">   </span>│<span style=\"color: #808000; text-decoration-color: #808000\"> 5. Chernobyl                    </span>│<span style=\"color: #008000; text-decoration-color: #008000\">   2019    </span>│<span style=\"color: #000080; text-decoration-color: #000080\">     9.3     </span>│\n",
              "│<span style=\"color: #008080; text-decoration-color: #008080\">  </span><span style=\"color: #008080; text-decoration-color: #008080; font-weight: bold\">6</span><span style=\"color: #008080; text-decoration-color: #008080\">   </span>│<span style=\"color: #808000; text-decoration-color: #808000\"> 6. The Wire                     </span>│<span style=\"color: #008000; text-decoration-color: #008000\"> 2002–2008 </span>│<span style=\"color: #000080; text-decoration-color: #000080\">     9.3     </span>│\n",
              "│<span style=\"color: #008080; text-decoration-color: #008080\">  </span><span style=\"color: #008080; text-decoration-color: #008080; font-weight: bold\">7</span><span style=\"color: #008080; text-decoration-color: #008080\">   </span>│<span style=\"color: #808000; text-decoration-color: #808000\"> 7. Avatar: The Last Airbender   </span>│<span style=\"color: #008000; text-decoration-color: #008000\"> 2005–2008 </span>│<span style=\"color: #000080; text-decoration-color: #000080\">     9.3     </span>│\n",
              "│<span style=\"color: #008080; text-decoration-color: #008080\">  </span><span style=\"color: #008080; text-decoration-color: #008080; font-weight: bold\">8</span><span style=\"color: #008080; text-decoration-color: #008080\">   </span>│<span style=\"color: #808000; text-decoration-color: #808000\"> 8. Blue Planet II               </span>│<span style=\"color: #008000; text-decoration-color: #008000\">   2017    </span>│<span style=\"color: #000080; text-decoration-color: #000080\">     9.3     </span>│\n",
              "│<span style=\"color: #008080; text-decoration-color: #008080\">  </span><span style=\"color: #008080; text-decoration-color: #008080; font-weight: bold\">9</span><span style=\"color: #008080; text-decoration-color: #008080\">   </span>│<span style=\"color: #808000; text-decoration-color: #808000\"> 9. The Sopranos                 </span>│<span style=\"color: #008000; text-decoration-color: #008000\"> 1999–2007 </span>│<span style=\"color: #000080; text-decoration-color: #000080\">     9.2     </span>│\n",
              "│<span style=\"color: #008080; text-decoration-color: #008080\">  </span><span style=\"color: #008080; text-decoration-color: #008080; font-weight: bold\">10</span><span style=\"color: #008080; text-decoration-color: #008080\">  </span>│<span style=\"color: #808000; text-decoration-color: #808000\"> 10. Cosmos: A Spacetime Odyssey </span>│<span style=\"color: #008000; text-decoration-color: #008000\">   2014    </span>│<span style=\"color: #000080; text-decoration-color: #000080\">     9.2     </span>│\n",
              "└──────┴─────────────────────────────────┴───────────┴─────────────┘\n",
              "</pre>\n"
            ]
          },
          "metadata": {}
        },
        {
          "output_type": "display_data",
          "data": {
            "text/plain": [
              "\u001b[3m                🎬 Most Popular TV Shows                 \u001b[0m\n",
              "┏━━━━━━┳━━━━━━━━━━━━━━━━━━━━━━┳━━━━━━━━━━━┳━━━━━━━━━━━━━┓\n",
              "┃\u001b[1;35m \u001b[0m\u001b[1;35mRank\u001b[0m\u001b[1;35m \u001b[0m┃\u001b[1;35m \u001b[0m\u001b[1;35mTitle               \u001b[0m\u001b[1;35m \u001b[0m┃\u001b[1;35m \u001b[0m\u001b[1;35m  Year   \u001b[0m\u001b[1;35m \u001b[0m┃\u001b[1;35m \u001b[0m\u001b[1;35mIMDb Rating\u001b[0m\u001b[1;35m \u001b[0m┃\n",
              "┡━━━━━━╇━━━━━━━━━━━━━━━━━━━━━━╇━━━━━━━━━━━╇━━━━━━━━━━━━━┩\n",
              "│\u001b[36m \u001b[0m\u001b[36m \u001b[0m\u001b[1;36m1\u001b[0m\u001b[36m  \u001b[0m\u001b[36m \u001b[0m│\u001b[33m \u001b[0m\u001b[33mSeverance           \u001b[0m\u001b[33m \u001b[0m│\u001b[32m \u001b[0m\u001b[32m  2022–  \u001b[0m\u001b[32m \u001b[0m│\u001b[34m \u001b[0m\u001b[34m    8.7    \u001b[0m\u001b[34m \u001b[0m│\n",
              "│\u001b[36m \u001b[0m\u001b[36m \u001b[0m\u001b[1;36m2\u001b[0m\u001b[36m  \u001b[0m\u001b[36m \u001b[0m│\u001b[33m \u001b[0m\u001b[33mParadise            \u001b[0m\u001b[33m \u001b[0m│\u001b[32m \u001b[0m\u001b[32m  2025–  \u001b[0m\u001b[32m \u001b[0m│\u001b[34m \u001b[0m\u001b[34m    7.9    \u001b[0m\u001b[34m \u001b[0m│\n",
              "│\u001b[36m \u001b[0m\u001b[36m \u001b[0m\u001b[1;36m3\u001b[0m\u001b[36m  \u001b[0m\u001b[36m \u001b[0m│\u001b[33m \u001b[0m\u001b[33mApple Cider Vinegar \u001b[0m\u001b[33m \u001b[0m│\u001b[32m \u001b[0m\u001b[32m  2025   \u001b[0m\u001b[32m \u001b[0m│\u001b[34m \u001b[0m\u001b[34m    7.3    \u001b[0m\u001b[34m \u001b[0m│\n",
              "│\u001b[36m \u001b[0m\u001b[36m \u001b[0m\u001b[1;36m4\u001b[0m\u001b[36m  \u001b[0m\u001b[36m \u001b[0m│\u001b[33m \u001b[0m\u001b[33mInvincible          \u001b[0m\u001b[33m \u001b[0m│\u001b[32m \u001b[0m\u001b[32m  2021–  \u001b[0m\u001b[32m \u001b[0m│\u001b[34m \u001b[0m\u001b[34m    8.6    \u001b[0m\u001b[34m \u001b[0m│\n",
              "│\u001b[36m \u001b[0m\u001b[36m \u001b[0m\u001b[1;36m5\u001b[0m\u001b[36m  \u001b[0m\u001b[36m \u001b[0m│\u001b[33m \u001b[0m\u001b[33mThe White Lotus     \u001b[0m\u001b[33m \u001b[0m│\u001b[32m \u001b[0m\u001b[32m  2021–  \u001b[0m\u001b[32m \u001b[0m│\u001b[34m \u001b[0m\u001b[34m    8.0    \u001b[0m\u001b[34m \u001b[0m│\n",
              "│\u001b[36m \u001b[0m\u001b[36m \u001b[0m\u001b[1;36m6\u001b[0m\u001b[36m  \u001b[0m\u001b[36m \u001b[0m│\u001b[33m \u001b[0m\u001b[33mCobra Kai           \u001b[0m\u001b[33m \u001b[0m│\u001b[32m \u001b[0m\u001b[32m2018–2025\u001b[0m\u001b[32m \u001b[0m│\u001b[34m \u001b[0m\u001b[34m    8.4    \u001b[0m\u001b[34m \u001b[0m│\n",
              "│\u001b[36m \u001b[0m\u001b[36m \u001b[0m\u001b[1;36m7\u001b[0m\u001b[36m  \u001b[0m\u001b[36m \u001b[0m│\u001b[33m \u001b[0m\u001b[33mThe Night Agent     \u001b[0m\u001b[33m \u001b[0m│\u001b[32m \u001b[0m\u001b[32m  2023–  \u001b[0m\u001b[32m \u001b[0m│\u001b[34m \u001b[0m\u001b[34m    7.5    \u001b[0m\u001b[34m \u001b[0m│\n",
              "│\u001b[36m \u001b[0m\u001b[36m \u001b[0m\u001b[1;36m8\u001b[0m\u001b[36m  \u001b[0m\u001b[36m \u001b[0m│\u001b[33m \u001b[0m\u001b[33mYellowstone         \u001b[0m\u001b[33m \u001b[0m│\u001b[32m \u001b[0m\u001b[32m2018–2024\u001b[0m\u001b[32m \u001b[0m│\u001b[34m \u001b[0m\u001b[34m    8.6    \u001b[0m\u001b[34m \u001b[0m│\n",
              "│\u001b[36m \u001b[0m\u001b[36m \u001b[0m\u001b[1;36m9\u001b[0m\u001b[36m  \u001b[0m\u001b[36m \u001b[0m│\u001b[33m \u001b[0m\u001b[33mHigh Potential      \u001b[0m\u001b[33m \u001b[0m│\u001b[32m \u001b[0m\u001b[32m  2024–  \u001b[0m\u001b[32m \u001b[0m│\u001b[34m \u001b[0m\u001b[34m    7.6    \u001b[0m\u001b[34m \u001b[0m│\n",
              "│\u001b[36m \u001b[0m\u001b[36m \u001b[0m\u001b[1;36m10\u001b[0m\u001b[36m \u001b[0m\u001b[36m \u001b[0m│\u001b[33m \u001b[0m\u001b[33mDexter: Original Sin\u001b[0m\u001b[33m \u001b[0m│\u001b[32m \u001b[0m\u001b[32m  2024–  \u001b[0m\u001b[32m \u001b[0m│\u001b[34m \u001b[0m\u001b[34m    8.3    \u001b[0m\u001b[34m \u001b[0m│\n",
              "└──────┴──────────────────────┴───────────┴─────────────┘\n"
            ],
            "text/html": [
              "<pre style=\"white-space:pre;overflow-x:auto;line-height:normal;font-family:Menlo,'DejaVu Sans Mono',consolas,'Courier New',monospace\"><span style=\"font-style: italic\">                🎬 Most Popular TV Shows                 </span>\n",
              "┏━━━━━━┳━━━━━━━━━━━━━━━━━━━━━━┳━━━━━━━━━━━┳━━━━━━━━━━━━━┓\n",
              "┃<span style=\"color: #800080; text-decoration-color: #800080; font-weight: bold\"> Rank </span>┃<span style=\"color: #800080; text-decoration-color: #800080; font-weight: bold\"> Title                </span>┃<span style=\"color: #800080; text-decoration-color: #800080; font-weight: bold\">   Year    </span>┃<span style=\"color: #800080; text-decoration-color: #800080; font-weight: bold\"> IMDb Rating </span>┃\n",
              "┡━━━━━━╇━━━━━━━━━━━━━━━━━━━━━━╇━━━━━━━━━━━╇━━━━━━━━━━━━━┩\n",
              "│<span style=\"color: #008080; text-decoration-color: #008080\">  </span><span style=\"color: #008080; text-decoration-color: #008080; font-weight: bold\">1</span><span style=\"color: #008080; text-decoration-color: #008080\">   </span>│<span style=\"color: #808000; text-decoration-color: #808000\"> Severance            </span>│<span style=\"color: #008000; text-decoration-color: #008000\">   2022–   </span>│<span style=\"color: #000080; text-decoration-color: #000080\">     8.7     </span>│\n",
              "│<span style=\"color: #008080; text-decoration-color: #008080\">  </span><span style=\"color: #008080; text-decoration-color: #008080; font-weight: bold\">2</span><span style=\"color: #008080; text-decoration-color: #008080\">   </span>│<span style=\"color: #808000; text-decoration-color: #808000\"> Paradise             </span>│<span style=\"color: #008000; text-decoration-color: #008000\">   2025–   </span>│<span style=\"color: #000080; text-decoration-color: #000080\">     7.9     </span>│\n",
              "│<span style=\"color: #008080; text-decoration-color: #008080\">  </span><span style=\"color: #008080; text-decoration-color: #008080; font-weight: bold\">3</span><span style=\"color: #008080; text-decoration-color: #008080\">   </span>│<span style=\"color: #808000; text-decoration-color: #808000\"> Apple Cider Vinegar  </span>│<span style=\"color: #008000; text-decoration-color: #008000\">   2025    </span>│<span style=\"color: #000080; text-decoration-color: #000080\">     7.3     </span>│\n",
              "│<span style=\"color: #008080; text-decoration-color: #008080\">  </span><span style=\"color: #008080; text-decoration-color: #008080; font-weight: bold\">4</span><span style=\"color: #008080; text-decoration-color: #008080\">   </span>│<span style=\"color: #808000; text-decoration-color: #808000\"> Invincible           </span>│<span style=\"color: #008000; text-decoration-color: #008000\">   2021–   </span>│<span style=\"color: #000080; text-decoration-color: #000080\">     8.6     </span>│\n",
              "│<span style=\"color: #008080; text-decoration-color: #008080\">  </span><span style=\"color: #008080; text-decoration-color: #008080; font-weight: bold\">5</span><span style=\"color: #008080; text-decoration-color: #008080\">   </span>│<span style=\"color: #808000; text-decoration-color: #808000\"> The White Lotus      </span>│<span style=\"color: #008000; text-decoration-color: #008000\">   2021–   </span>│<span style=\"color: #000080; text-decoration-color: #000080\">     8.0     </span>│\n",
              "│<span style=\"color: #008080; text-decoration-color: #008080\">  </span><span style=\"color: #008080; text-decoration-color: #008080; font-weight: bold\">6</span><span style=\"color: #008080; text-decoration-color: #008080\">   </span>│<span style=\"color: #808000; text-decoration-color: #808000\"> Cobra Kai            </span>│<span style=\"color: #008000; text-decoration-color: #008000\"> 2018–2025 </span>│<span style=\"color: #000080; text-decoration-color: #000080\">     8.4     </span>│\n",
              "│<span style=\"color: #008080; text-decoration-color: #008080\">  </span><span style=\"color: #008080; text-decoration-color: #008080; font-weight: bold\">7</span><span style=\"color: #008080; text-decoration-color: #008080\">   </span>│<span style=\"color: #808000; text-decoration-color: #808000\"> The Night Agent      </span>│<span style=\"color: #008000; text-decoration-color: #008000\">   2023–   </span>│<span style=\"color: #000080; text-decoration-color: #000080\">     7.5     </span>│\n",
              "│<span style=\"color: #008080; text-decoration-color: #008080\">  </span><span style=\"color: #008080; text-decoration-color: #008080; font-weight: bold\">8</span><span style=\"color: #008080; text-decoration-color: #008080\">   </span>│<span style=\"color: #808000; text-decoration-color: #808000\"> Yellowstone          </span>│<span style=\"color: #008000; text-decoration-color: #008000\"> 2018–2024 </span>│<span style=\"color: #000080; text-decoration-color: #000080\">     8.6     </span>│\n",
              "│<span style=\"color: #008080; text-decoration-color: #008080\">  </span><span style=\"color: #008080; text-decoration-color: #008080; font-weight: bold\">9</span><span style=\"color: #008080; text-decoration-color: #008080\">   </span>│<span style=\"color: #808000; text-decoration-color: #808000\"> High Potential       </span>│<span style=\"color: #008000; text-decoration-color: #008000\">   2024–   </span>│<span style=\"color: #000080; text-decoration-color: #000080\">     7.6     </span>│\n",
              "│<span style=\"color: #008080; text-decoration-color: #008080\">  </span><span style=\"color: #008080; text-decoration-color: #008080; font-weight: bold\">10</span><span style=\"color: #008080; text-decoration-color: #008080\">  </span>│<span style=\"color: #808000; text-decoration-color: #808000\"> Dexter: Original Sin </span>│<span style=\"color: #008000; text-decoration-color: #008000\">   2024–   </span>│<span style=\"color: #000080; text-decoration-color: #000080\">     8.3     </span>│\n",
              "└──────┴──────────────────────┴───────────┴─────────────┘\n",
              "</pre>\n"
            ]
          },
          "metadata": {}
        }
      ]
    }
  ]
}