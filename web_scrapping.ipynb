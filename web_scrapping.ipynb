{
  "nbformat": 4,
  "nbformat_minor": 0,
  "metadata": {
    "colab": {
      "provenance": []
    },
    "kernelspec": {
      "name": "python3",
      "display_name": "Python 3"
    },
    "language_info": {
      "name": "python"
    }
  },
  "cells": [
    {
      "cell_type": "code",
      "execution_count": 5,
      "metadata": {
        "id": "uQXFKDEhuEv4"
      },
      "outputs": [],
      "source": [
        "from bs4 import BeautifulSoup\n",
        "import requests"
      ]
    },
    {
      "cell_type": "markdown",
      "source": [
        "# FUNCTION"
      ],
      "metadata": {
        "id": "BbMaWB2u1_0E"
      }
    },
    {
      "cell_type": "code",
      "source": [
        "def scrape(link):\n",
        "\n",
        "  url=requests.get(link).text\n",
        "  soup=BeautifulSoup(url,'html.parser')\n",
        "\n",
        "  for heading in soup.find_all([\"h2\", \"h3\", \"h4\"]):\n",
        "    text = heading.get_text(strip=True)\n",
        "    if heading.name == \"h2\":\n",
        "      print(f\"\\033[1m\\033[34m{text}\\033[0m\")\n",
        "    elif heading.name == \"h3\":\n",
        "      print(f\"\\033[1m\\033[32m{text}\\033[0m\")\n",
        "    elif heading.name == \"h4\":\n",
        "      print(f\"\\033[1m\\033[31m{text}\\033[0m\")"
      ],
      "metadata": {
        "id": "sOLAl4e2u8JK"
      },
      "execution_count": 8,
      "outputs": []
    },
    {
      "cell_type": "markdown",
      "source": [
        "# Links"
      ],
      "metadata": {
        "id": "CONn_LHG2CmE"
      }
    },
    {
      "cell_type": "code",
      "source": [
        "scrape(\"https://www.foxnews.com/entertainment\")"
      ],
      "metadata": {
        "colab": {
          "base_uri": "https://localhost:8080/"
        },
        "id": "QvZH0CBQvrTa",
        "outputId": "3d8fc0f0-2f91-4f74-d687-1f26ea4e70cf"
      },
      "execution_count": 9,
      "outputs": [
        {
          "output_type": "stream",
          "name": "stdout",
          "text": [
            "\u001b[1m\u001b[34mTony Lo Bianco, 'The French Connection' actor, dead at 87\u001b[0m\n",
            "\u001b[1m\u001b[34mOJ Simpson's Hollywood circle then and now: PHOTOS\u001b[0m\n",
            "\u001b[1m\u001b[34mAriana Grande believes child stars should have 'mandatory' therapy: 'The environment needs to be made safer'\u001b[0m\n",
            "\u001b[1m\u001b[34mAdam Levine's return to 'The Voice' is 'brilliant move': expert\u001b[0m\n",
            "\u001b[1m\u001b[34m‘Wheel of Fortune’ host’s next gig comes with 'intact' reputation: expert\u001b[0m\n",
            "\u001b[1m\u001b[31mCéline Dion took potentially 'fatal' amounts of Valium to combat stiff person syndrome pain\u001b[0m\n",
            "\u001b[1m\u001b[31mThe beautiful Adriana Lima: A look back at Victoria's Secret runway shows the model has walked in\u001b[0m\n",
            "\u001b[1m\u001b[31mTony Lo Bianco, 'The French Connection' actor, dead at 87\u001b[0m\n",
            "\u001b[1m\u001b[31mAriana Grande believes child stars should have 'mandatory' therapy: 'The environment needs to be made safer'\u001b[0m\n",
            "\u001b[1m\u001b[31mJelly Roll says Eminem's request for duet is ‘coolest' moment of his career\u001b[0m\n",
            "\u001b[1m\u001b[32mCountry Music\u001b[0m\n",
            "\u001b[1m\u001b[31mJelly Roll says Eminem's request for duet is ‘coolest' moment of his career\u001b[0m\n",
            "\u001b[1m\u001b[31m'Horizon' star Kevin Costner reveres 'promise in America' in action-packed film: 'Make what's out there yours'\u001b[0m\n",
            "\u001b[1m\u001b[31mBilly Ray Cyrus files for annulment alleging inappropriate marital conduct after 7-month marriage\u001b[0m\n",
            "\u001b[1m\u001b[31mCarrie Underwood's Myrtle Beach concert interrupted by 'massive downpour,' singer appears to slip on stage\u001b[0m\n",
            "\u001b[1m\u001b[32mSean 'Diddy' Combs\u001b[0m\n",
            "\u001b[1m\u001b[31mFeds tracking down 'people' seen in video taken inside Sean 'Diddy' Combs mansions: report\u001b[0m\n",
            "\u001b[1m\u001b[31mDiddy allegedly forced student, ex Kim Porter to take ecstasy during sexual assault, according to new lawsuit\u001b[0m\n",
            "\u001b[1m\u001b[31mSean 'Diddy' Combs' ex Cassie speaks out following release of hotel attack video\u001b[0m\n",
            "\u001b[1m\u001b[31mModel sues Diddy for alleged drugging, sexual assault at New York studio\u001b[0m\n",
            "\u001b[1m\u001b[31mCyndi Lauper ‘didn’t like’ being pitted against Madonna: ‘What the hell was that?’\u001b[0m\n",
            "\u001b[1m\u001b[31mAdam Levine returns to ‘The Voice,’ cashing in on ‘Ozempic of exposure’: expert\u001b[0m\n",
            "\u001b[1m\u001b[31m'Horizon' star Kevin Costner reveres 'promise in America' in action-packed film: 'Make what's out there yours'\u001b[0m\n",
            "\u001b[1m\u001b[31mPat Sajak's next gig comes with 'intact' reputation: 'He'll always draw eyeballs'\u001b[0m\n",
            "\u001b[1m\u001b[31mPrincess Diana’s brother, Charles Spencer, hires same divorce attorney King Charles used: report\u001b[0m\n",
            "\u001b[1m\u001b[32mDigital Exclusives\u001b[0m\n",
            "\u001b[1m\u001b[31mMark Wahlberg counts faith, family as keys to his success in Hollywood, beyond\u001b[0m\n",
            "\u001b[1m\u001b[31m'Deadliest Catch' star Sig Hansen on challenge of keeping men alive in hit TV series\u001b[0m\n",
            "\u001b[1m\u001b[31m'Star Trek' actor Leonard Nimoy made peace with son through 'devastating' letter following sobriety battles\u001b[0m\n",
            "\u001b[1m\u001b[31m‘Little House’ star Michael Landon was stubborn, avoided doctors ahead of fatal cancer diagnosis: daughter\u001b[0m\n",
            "\u001b[1m\u001b[31m'Jane the Virgin' star Justin Baldoni hospitalized with infection\u001b[0m\n",
            "\u001b[1m\u001b[31mJohnny Depp beat Tom Cruise, Tom Hanks for 'beautiful' role in 'Edward Scissorhands'\u001b[0m\n",
            "\u001b[1m\u001b[31mMan arrested during Taylor Swift's Scotland concert charged with voyeurism\u001b[0m\n",
            "\u001b[1m\u001b[31mBilly Ray Cyrus files for annulment alleging inappropriate marital conduct after 7-month marriage\u001b[0m\n",
            "\u001b[1m\u001b[31mKate Middleton apologizes for absence, Taylor Swift helps fan at concert\u001b[0m\n",
            "\u001b[1m\u001b[32mRoyals\u001b[0m\n",
            "\u001b[1m\u001b[31mPrincess Diana’s brother, Charles Spencer, hires same divorce attorney King Charles used: report\u001b[0m\n",
            "\u001b[1m\u001b[31mKing Charles a ‘workaholic’ amid cancer battle, ‘aware that time is ticking’ as monarch: experts\u001b[0m\n",
            "\u001b[1m\u001b[31mPrince William shares advice from Prince Louis for England’s soccer team: Take it ‘with a pinch of salt’\u001b[0m\n",
            "\u001b[1m\u001b[31mPrincess Diana’s younger brother, Charles Spencer, announces 'sad' divorce from third wife Karen Spencer\u001b[0m\n",
            "\u001b[1m\u001b[31mHalle Berry suffers wardrobe malfunction in hilarious behind-the-scenes footage\u001b[0m\n",
            "\u001b[1m\u001b[31mKristin Cavallari says she was 'skin and bones,' got down to 102 lbs during 'unhappy' marriage to Jay Cutler\u001b[0m\n",
            "\u001b[1m\u001b[31mMark Wahlberg counts faith, family as keys to his success in Hollywood, beyond\u001b[0m\n",
            "\u001b[1m\u001b[31m'Deadliest Catch' star Sig Hansen on challenge of keeping men alive in hit TV series\u001b[0m\n",
            "\u001b[1m\u001b[31mKing Charles a ‘workaholic’ amid cancer battle, ‘aware that time is ticking’ as monarch: experts\u001b[0m\n",
            "\u001b[1m\u001b[32mGame Shows\u001b[0m\n",
            "\u001b[1m\u001b[31mPat Sajak's next gig comes with 'intact' reputation: 'He'll always draw eyeballs'\u001b[0m\n",
            "\u001b[1m\u001b[31m‘AGT’ Golden Buzzer winning janitor thought Heidi Klum ‘didn’t like me’ before realizing 'I made it through'\u001b[0m\n",
            "\u001b[1m\u001b[31mRyan Seacrest congratulates Pat Sajak on ‘Wheel of Fortune’ retirement: ‘You’ve set the standard’\u001b[0m\n",
            "\u001b[1m\u001b[31mPat Sajak plans next move after final ‘Wheel of Fortune' episode\u001b[0m\n"
          ]
        }
      ]
    },
    {
      "cell_type": "code",
      "source": [
        "scrape(\"https://abcnews.go.com/International\")"
      ],
      "metadata": {
        "colab": {
          "base_uri": "https://localhost:8080/"
        },
        "id": "1_e-5FTjxuWd",
        "outputId": "f89a5fef-12ac-4030-a9ec-9aac5f521c02"
      },
      "execution_count": 14,
      "outputs": [
        {
          "output_type": "stream",
          "name": "stdout",
          "text": [
            "\u001b[1m\u001b[34mABC News\u001b[0m\n",
            "\u001b[1m\u001b[34mVideo\u001b[0m\n",
            "\u001b[1m\u001b[34mLive\u001b[0m\n",
            "\u001b[1m\u001b[34mShows\u001b[0m\n",
            "\u001b[1m\u001b[34mElections\u001b[0m\n",
            "\u001b[1m\u001b[34m538\u001b[0m\n",
            "\u001b[1m\u001b[34mShop\u001b[0m\n",
            "\u001b[1m\u001b[34mStream on\u001b[0m\n",
            "\u001b[1m\u001b[34mNew:538 presidential forecast\u001b[0m\n",
            "\u001b[1m\u001b[34mInflation data\u001b[0m\n",
            "\u001b[1m\u001b[34mJerry West dies\u001b[0m\n",
            "\u001b[1m\u001b[34mG7 summit\u001b[0m\n",
            "\u001b[1m\u001b[34mIsrael policy warning\u001b[0m\n",
            "\u001b[1m\u001b[34mBoeing sales tumble\u001b[0m\n",
            "\u001b[1m\u001b[34mHunter Biden verdict\u001b[0m\n",
            "\u001b[1m\u001b[34mA magnitude 4.8 earthquake in southwestern South Korea cracks walls and leaves other minor damage\u001b[0m\n",
            "\u001b[1m\u001b[34mAt least 49 die and 140 are missing after migrant boat sinks off Yemen's coast, UN agency says\u001b[0m\n",
            "\u001b[1m\u001b[34mRussia fires more missiles and drones at Ukraine\u001b[0m\n",
            "\u001b[1m\u001b[34mBlinken says some of Hamas' proposed changes to a cease-fire plan in Gaza are workable and some not\u001b[0m\n",
            "\u001b[1m\u001b[34mUkraine military creates branch for drone warfare\u001b[0m\n",
            "\u001b[1m\u001b[34mHezbollah vows to intensify attacks against Israel after senior military commander is killed\u001b[0m\n",
            "\u001b[1m\u001b[34mHeat wave in Greece halts visits to Acropolis\u001b[0m\n",
            "\u001b[1m\u001b[34mAustrian Airlines plane loses nose in hailstorm\u001b[0m\n",
            "\u001b[1m\u001b[34mRussian warships reach Cuban waters ahead of military exercises in the Caribbean\u001b[0m\n",
            "\u001b[1m\u001b[31mNew Zealand searches for father who vanished into forest with children 2 years ago\u001b[0m\n",
            "\u001b[1m\u001b[31mRare 'miracle' elephant twins born in Thailand\u001b[0m\n",
            "\u001b[1m\u001b[31mNew King Charles portrait vandalized in London gallery, animal rights group says\u001b[0m\n",
            "\u001b[1m\u001b[31mVoting machine contract under scrutiny following discrepancies in Puerto Rico's primaries\u001b[0m\n",
            "\u001b[1m\u001b[32mLatest International Video\u001b[0m\n",
            "\u001b[1m\u001b[32m8 people detained in US with suspected ties to ISIS\u001b[0m\n",
            "\u001b[1m\u001b[32mBlinken expresses frustration after rejection of cease-fire proposal\u001b[0m\n",
            "\u001b[1m\u001b[32mHezbollah fires rockets into Israel\u001b[0m\n",
            "\u001b[1m\u001b[32mBiden to meet with US allies in Italy\u001b[0m\n",
            "\u001b[1m\u001b[32m4 Iowa college instructors stabbed while visiting China\u001b[0m\n",
            "\u001b[1m\u001b[32mUN to investigate whether Israel committed war crimes during refugee camp raid\u001b[0m\n",
            "\u001b[1m\u001b[32m4 US college professors stabbed in China\u001b[0m\n",
            "\u001b[1m\u001b[32mNew King Charles portrait vandalized in London museum, animal rights group says\u001b[0m\n",
            "\u001b[1m\u001b[32mUS weighs options to rescue hostages\u001b[0m\n",
            "\u001b[1m\u001b[32mNew video shows hostages rescued by Israel\u001b[0m\n",
            "\u001b[1m\u001b[32m4 instructors from Iowa college injured in China in 'horrifying attack': Governor\u001b[0m\n",
            "\u001b[1m\u001b[32mUK girls soccer team goes undefeated in boys league\u001b[0m\n",
            "\u001b[1m\u001b[34mLatest International Headlines\u001b[0m\n",
            "\u001b[1m\u001b[34mWreckage of last ship belonging to famed Irish explorer found off coast of Canada\u001b[0m\n",
            "\u001b[1m\u001b[34mPakistan’s new government presents its first budget as it seeks a new long-term IMF bailout\u001b[0m\n",
            "\u001b[1m\u001b[34mThe wreck of the last ship of a famed Irish explorer of Antarctica has been found off the coast of Canada\u001b[0m\n",
            "\u001b[1m\u001b[34mRussia, largely excluded from international sports, hosts athletes at BRICS Games\u001b[0m\n",
            "\u001b[1m\u001b[34m8 people detained in US with suspected ties to ISIS\u001b[0m\n",
            "\u001b[1m\u001b[34mBlinken expresses frustration after rejection of cease-fire proposal\u001b[0m\n",
            "\u001b[1m\u001b[34mDenmark recalls 3 spicy instant noodle soup brands from South Korea used in online food challenges\u001b[0m\n",
            "\u001b[1m\u001b[34mWhat are the main sticking points in the cease-fire talks between Israel and Hamas?\u001b[0m\n",
            "\u001b[1m\u001b[34mGermany proposes a new law to fast-track young men to join its depleted armed forces\u001b[0m\n",
            "\u001b[1m\u001b[34mMore than 80 travelers have died in Congo after their boat capsized, president says\u001b[0m\n",
            "\u001b[1m\u001b[34mA boat has capsized in western Congo, killing more than 80 people, the nation’s leader says\u001b[0m\n",
            "\u001b[1m\u001b[34mHezbollah vows to intensify attacks against Israel after senior military commander is killed\u001b[0m\n",
            "\u001b[1m\u001b[34mUS widens sanctions on Russia, discouraging countries including China from doing business with Moscow\u001b[0m\n",
            "\u001b[1m\u001b[34mArmenian leader announces plan to leave Russia-dominated security alliance as ties with Moscow sour\u001b[0m\n",
            "\u001b[1m\u001b[34mSlovakia plans to boost politicians' protection after assassination attempt on populist premier\u001b[0m\n",
            "\u001b[1m\u001b[34mInternational headlines from ABC News\u001b[0m\n",
            "\u001b[1m\u001b[34mIndonesian police arrest 6 suspected poachers over killing of 26 endangered rhinos\u001b[0m\n",
            "\u001b[1m\u001b[34mEurope wants affordable electric vehicles from China. But not at the cost of its own auto industry\u001b[0m\n",
            "\u001b[1m\u001b[34mFrançoise Hardy, French singing legend and pop icon, dies at 80\u001b[0m\n",
            "\u001b[1m\u001b[34mAs Art Basel opens, buyers confront a 'cooling' but still very active market\u001b[0m\n",
            "\u001b[1m\u001b[34mA helicopter has crashed with 3 on board in southeastern China\u001b[0m\n",
            "\u001b[1m\u001b[34mBlinken says mediators will continue to 'try to close this deal' after Hamas asked for changes to a cease-fire plan\u001b[0m\n",
            "\u001b[1m\u001b[34mUS Secretary of State Blinken says some of Hamas' proposed changes to a cease-fire deal are workable and some are not\u001b[0m\n",
            "\u001b[1m\u001b[34mRussian warships reach Cuban waters ahead of military exercises in the Caribbean\u001b[0m\n",
            "\u001b[1m\u001b[34mRussian warships and aircraft enter the Caribbean for military drills as tensions grow over Western support for Ukraine\u001b[0m\n",
            "\u001b[1m\u001b[34mKosovo marks the 25th anniversary of its liberation, when Serb forces withdrew after NATO bombing\u001b[0m\n",
            "\u001b[1m\u001b[34mIndia urges Russia to return its citizens recruited by Russia's army after 2 killed\u001b[0m\n",
            "\u001b[1m\u001b[34mRussia fires more missiles and drones at Ukraine\u001b[0m\n",
            "\u001b[1m\u001b[34mA Russian woman is questioned in Denmark over allegations of helping a foreign intelligence agency\u001b[0m\n",
            "\u001b[1m\u001b[34mUK economy flatlined in April in a blow to the governing Conservatives ahead of the July 4 election\u001b[0m\n",
            "\u001b[1m\u001b[34mDutch court convicts 3 men of murder in fatal shooting of investigative reporter Peter R. De Vries in 2021\u001b[0m\n",
            "\u001b[1m\u001b[34mGerman energy company Uniper says a tribunal awarded it billions in damages from Russia's Gazprom\u001b[0m\n",
            "\u001b[1m\u001b[34mJapanese architect Maki, credited with fusing East with West, has died at age 95\u001b[0m\n",
            "\u001b[1m\u001b[34mAustria to hold parliamentary election on Sept.29, with far-right gaining traction\u001b[0m\n",
            "\u001b[1m\u001b[34mUkrainian military creates new Unmanned Systems Forces branch for drone warfare\u001b[0m\n",
            "\u001b[1m\u001b[34mMalawi announces 21 days of mourning for vice president killed in a plane crash\u001b[0m\n",
            "\u001b[1m\u001b[34mThe European Union moves to hike tariffs on Chinese electric car imports, escalating trade spat\u001b[0m\n",
            "\u001b[1m\u001b[34mPoland honors soldier who was fatally stabbed by migrant at border with Belarus\u001b[0m\n",
            "\u001b[1m\u001b[34mThe European Union is threatening to raise tariffs by July 4 on electric cars imported from China\u001b[0m\n",
            "\u001b[1m\u001b[34mFrench President Macron calls moderate politicians from the left and right to regroup to defeat far right in elections\u001b[0m\n",
            "\u001b[1m\u001b[34mHeat wave in Greece halts visits to Acropolis\u001b[0m\n",
            "\u001b[1m\u001b[34mFrench President Macron defends decision to call snap election, urges voters to defeat the far-right\u001b[0m\n",
            "\u001b[1m\u001b[34mHungary agrees not to veto NATO support to Ukraine as long as it's not forced to help out\u001b[0m\n",
            "\u001b[1m\u001b[34mAt least 41 die in a fire at a building housing workers in Kuwait\u001b[0m\n",
            "\u001b[1m\u001b[34mKuwait's state-run news agency says at least 35 people have died in a building fire\u001b[0m\n",
            "\u001b[1m\u001b[34mBangladesh court indicts Nobel laureate Muhammad Yunus and others on charges of embezzlement\u001b[0m\n",
            "\u001b[1m\u001b[34mBlinken says some of Hamas' proposed changes to a cease-fire plan in Gaza are workable and some not\u001b[0m\n",
            "\u001b[1m\u001b[34mThe Latest | Over 200 rockets fired from Lebanon after Israel kills Hezbollah commander\u001b[0m\n",
            "\u001b[1m\u001b[34mAustralia anticipates China will lift final obstacle for exports as they ease past 2020 row\u001b[0m\n",
            "\u001b[1m\u001b[34mSome Syrian refugees risk returning to opposition-held areas as hostility in host Lebanon grows\u001b[0m\n",
            "\u001b[1m\u001b[34mSuggested Interests\u001b[0m\n"
          ]
        }
      ]
    }
  ]
}