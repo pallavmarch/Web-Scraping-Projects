{
 "cells": [
  {
   "cell_type": "code",
   "execution_count": 11,
   "id": "a1c9b70a",
   "metadata": {},
   "outputs": [],
   "source": [
    "import requests\n",
    "from bs4 import BeautifulSoup\n",
    "\n",
    "#Imdb Most Popular TV Shows\n",
    "wb='https://www.imdb.com/chart/tvmeter'\n",
    "url=requests.get(wb).text  \n",
    "#requests.get()-> used to send an HTTP GET request to the specified website URL.\n",
    "\n",
    "soup=BeautifulSoup(url,'html.parser')\n"
   ]
  },
  {
   "cell_type": "code",
   "execution_count": 12,
   "id": "b580b9e1",
   "metadata": {},
   "outputs": [],
   "source": [
    "show = soup.find('tbody',class_='lister-list').find_all('tr')"
   ]
  },
  {
   "cell_type": "markdown",
   "id": "bebb8881",
   "metadata": {},
   "source": [
    " "
   ]
  },
  {
   "cell_type": "markdown",
   "id": "0b443237",
   "metadata": {},
   "source": [
    "NAME column"
   ]
  },
  {
   "cell_type": "code",
   "execution_count": 43,
   "id": "4e04de3a",
   "metadata": {},
   "outputs": [
    {
     "name": "stdout",
     "output_type": "stream",
     "text": [
      "NAME: \n",
      "Black Mirror\n",
      "(2011)\n",
      "1\n",
      "(no change)\n",
      "\n",
      "\n"
     ]
    }
   ],
   "source": [
    "for i in show:\n",
    "    name = i.find('td',class_='titleColumn').text\n",
    "    print(\"NAME: \"+name)\n",
    "    break"
   ]
  },
  {
   "cell_type": "code",
   "execution_count": 49,
   "id": "bbe69797",
   "metadata": {},
   "outputs": [
    {
     "name": "stdout",
     "output_type": "stream",
     "text": [
      "NAME: Black Mirror\n"
     ]
    }
   ],
   "source": [
    "for i in show:\n",
    "    name = i.find('td',class_='titleColumn').a.text\n",
    "    print(\"NAME: \"+name)\n",
    "    break\n",
    "#a is used to access the <a> element within the found HTML element. "
   ]
  },
  {
   "cell_type": "markdown",
   "id": "33fb8d4d",
   "metadata": {},
   "source": [
    "  "
   ]
  },
  {
   "cell_type": "markdown",
   "id": "7028c335",
   "metadata": {},
   "source": [
    "Year column"
   ]
  },
  {
   "cell_type": "code",
   "execution_count": 50,
   "id": "adb330c5",
   "metadata": {
    "scrolled": true
   },
   "outputs": [
    {
     "name": "stdout",
     "output_type": "stream",
     "text": [
      "YEAR: \n",
      "Black Mirror\n",
      "(2011)\n",
      "1\n",
      "(no change)\n",
      "\n",
      "\n"
     ]
    }
   ],
   "source": [
    "for i in show:\n",
    "    year = i.find('td',class_='titleColumn').text\n",
    "    print(\"YEAR:\",year)\n",
    "    break"
   ]
  },
  {
   "cell_type": "code",
   "execution_count": 51,
   "id": "4647f665",
   "metadata": {},
   "outputs": [
    {
     "name": "stdout",
     "output_type": "stream",
     "text": [
      "YEAR: (2011)\n"
     ]
    }
   ],
   "source": [
    "for i in show:\n",
    "    year = i.find('td',class_='titleColumn').span.text\n",
    "    print(\"YEAR:\",year)\n",
    "    break\n",
    "#.span is used to access the <span> element within the found HTML element. The span tag often contains the year information."
   ]
  },
  {
   "cell_type": "code",
   "execution_count": 53,
   "id": "59717b9b",
   "metadata": {
    "scrolled": true
   },
   "outputs": [
    {
     "name": "stdout",
     "output_type": "stream",
     "text": [
      "YEAR: 2011\n"
     ]
    }
   ],
   "source": [
    "for i in show:\n",
    "    year = i.find('td',class_='titleColumn').span.text.strip('()')\n",
    "    print(\"YEAR:\",year)\n",
    "    break\n",
    "#Strip function to used to remove the Parentheses "
   ]
  },
  {
   "cell_type": "markdown",
   "id": "9b0c0b5a",
   "metadata": {},
   "source": [
    " "
   ]
  },
  {
   "cell_type": "markdown",
   "id": "2cdb6913",
   "metadata": {},
   "source": [
    "Rate Column"
   ]
  },
  {
   "cell_type": "code",
   "execution_count": 62,
   "id": "1775b4e1",
   "metadata": {
    "scrolled": true
   },
   "outputs": [
    {
     "name": "stdout",
     "output_type": "stream",
     "text": [
      "RATE: 8.8\n",
      "RATE: 7.2\n",
      "RATE: 5.6\n",
      "RATE: 8.1\n",
      "RATE: 8.4\n",
      "RATE: 8.9\n",
      "RATE: 7.7\n",
      "RATE: 8.2\n",
      "RATE: 8.8\n"
     ]
    },
    {
     "ename": "AttributeError",
     "evalue": "'NoneType' object has no attribute 'text'",
     "output_type": "error",
     "traceback": [
      "\u001b[1;31m---------------------------------------------------------------------------\u001b[0m",
      "\u001b[1;31mAttributeError\u001b[0m                            Traceback (most recent call last)",
      "Cell \u001b[1;32mIn[62], line 2\u001b[0m\n\u001b[0;32m      1\u001b[0m \u001b[38;5;28;01mfor\u001b[39;00m i \u001b[38;5;129;01min\u001b[39;00m show:\n\u001b[1;32m----> 2\u001b[0m     rate \u001b[38;5;241m=\u001b[39m \u001b[43mi\u001b[49m\u001b[38;5;241;43m.\u001b[39;49m\u001b[43mfind\u001b[49m\u001b[43m(\u001b[49m\u001b[38;5;124;43m'\u001b[39;49m\u001b[38;5;124;43mtd\u001b[39;49m\u001b[38;5;124;43m'\u001b[39;49m\u001b[43m,\u001b[49m\u001b[43mclass_\u001b[49m\u001b[38;5;241;43m=\u001b[39;49m\u001b[38;5;124;43m'\u001b[39;49m\u001b[38;5;124;43mimdbRating\u001b[39;49m\u001b[38;5;124;43m'\u001b[39;49m\u001b[43m)\u001b[49m\u001b[38;5;241;43m.\u001b[39;49m\u001b[43mstrong\u001b[49m\u001b[38;5;241;43m.\u001b[39;49m\u001b[43mtext\u001b[49m\n\u001b[0;32m      3\u001b[0m     \u001b[38;5;28mprint\u001b[39m(\u001b[38;5;124m\"\u001b[39m\u001b[38;5;124mRATE:\u001b[39m\u001b[38;5;124m\"\u001b[39m,rate)\n",
      "\u001b[1;31mAttributeError\u001b[0m: 'NoneType' object has no attribute 'text'"
     ]
    }
   ],
   "source": [
    "for i in show:\n",
    "    rate = i.find('td',class_='imdbRating').strong.text\n",
    "    print(\"RATE:\",rate)"
   ]
  },
  {
   "cell_type": "code",
   "execution_count": 64,
   "id": "0764b16c",
   "metadata": {
    "scrolled": true
   },
   "outputs": [
    {
     "name": "stdout",
     "output_type": "stream",
     "text": [
      "RATE: 8.8\n",
      "RATE: 7.2\n",
      "RATE: 5.6\n",
      "RATE: 8.1\n",
      "RATE: 8.4\n",
      "RATE: 8.9\n",
      "RATE: 7.7\n",
      "RATE: 8.2\n",
      "RATE: 8.8\n",
      "RATE: NA\n",
      "RATE: 8.1\n",
      "RATE: 7.9\n",
      "RATE: 8.4\n",
      "RATE: 6.9\n",
      "RATE: 7.9\n",
      "RATE: 9.2\n",
      "RATE: 8.7\n",
      "RATE: 8.4\n",
      "RATE: 6.5\n",
      "RATE: 8.1\n",
      "RATE: 8.7\n",
      "RATE: 7.1\n",
      "RATE: 8.8\n",
      "RATE: 7.3\n",
      "RATE: 9.5\n",
      "RATE: 8.3\n",
      "RATE: 5.7\n",
      "RATE: 8.7\n",
      "RATE: 8.7\n",
      "RATE: 8.7\n",
      "RATE: 7.5\n",
      "RATE: 7.5\n",
      "RATE: 7.6\n",
      "RATE: 8.0\n",
      "RATE: 8.0\n",
      "RATE: 8.4\n",
      "RATE: 9.2\n",
      "RATE: 9.0\n",
      "RATE: 8.1\n",
      "RATE: 7.0\n",
      "RATE: 6.8\n",
      "RATE: 7.8\n",
      "RATE: 8.8\n",
      "RATE: 9.0\n",
      "RATE: 8.4\n",
      "RATE: 8.6\n",
      "RATE: 8.7\n",
      "RATE: NA\n",
      "RATE: 8.3\n",
      "RATE: 7.5\n",
      "RATE: 7.0\n",
      "RATE: 8.1\n",
      "RATE: 6.4\n",
      "RATE: 7.8\n",
      "RATE: 7.6\n",
      "RATE: 7.9\n",
      "RATE: 8.9\n",
      "RATE: 8.9\n",
      "RATE: 8.0\n",
      "RATE: 8.1\n",
      "RATE: 7.7\n",
      "RATE: 8.9\n",
      "RATE: 7.5\n",
      "RATE: 8.8\n",
      "RATE: 8.8\n",
      "RATE: 8.5\n",
      "RATE: 8.2\n",
      "RATE: 5.5\n",
      "RATE: 8.0\n",
      "RATE: NA\n",
      "RATE: 7.5\n",
      "RATE: 7.2\n",
      "RATE: 8.7\n",
      "RATE: 8.4\n",
      "RATE: 8.7\n",
      "RATE: 9.1\n",
      "RATE: 8.6\n",
      "RATE: 7.8\n",
      "RATE: 8.1\n",
      "RATE: 8.6\n",
      "RATE: 8.7\n",
      "RATE: 8.6\n",
      "RATE: 8.3\n",
      "RATE: 7.9\n",
      "RATE: 9.3\n",
      "RATE: 8.0\n",
      "RATE: 7.4\n",
      "RATE: 9.1\n",
      "RATE: 8.0\n",
      "RATE: 7.3\n",
      "RATE: 8.6\n",
      "RATE: 8.1\n",
      "RATE: 8.2\n",
      "RATE: 8.1\n",
      "RATE: 8.1\n",
      "RATE: 8.5\n",
      "RATE: 7.8\n",
      "RATE: 8.5\n",
      "RATE: 8.5\n",
      "RATE: 7.9\n"
     ]
    }
   ],
   "source": [
    "#It was found One Piece had no rating, so we'll use exception\n",
    "for i in show:    \n",
    "    try:\n",
    "        rate = i.find('td',class_='imdbRating').strong.text\n",
    "    except:\n",
    "        rate ='NA'\n",
    "    print(\"RATE:\",rate)"
   ]
  },
  {
   "cell_type": "markdown",
   "id": "e16c4501",
   "metadata": {},
   "source": [
    " "
   ]
  },
  {
   "cell_type": "markdown",
   "id": "1abb6d33",
   "metadata": {},
   "source": [
    "Rank column"
   ]
  },
  {
   "cell_type": "code",
   "execution_count": 72,
   "id": "69e6fc5a",
   "metadata": {},
   "outputs": [
    {
     "name": "stdout",
     "output_type": "stream",
     "text": [
      "Black Mirror(2011)1\n",
      "(no change)\n"
     ]
    }
   ],
   "source": [
    "for i in show:\n",
    "    rank = i.find('td',class_='titleColumn').get_text(strip=True)\n",
    "    print(rank)\n",
    "    break"
   ]
  },
  {
   "cell_type": "code",
   "execution_count": 80,
   "id": "ab75b4a7",
   "metadata": {},
   "outputs": [
    {
     "name": "stdout",
     "output_type": "stream",
     "text": [
      "['Black Mirror(2011', '1\\n(no change', '']\n"
     ]
    }
   ],
   "source": [
    "#We need the rank 1 from the above output\n",
    "for i in show:\n",
    "    rank = i.find('td',class_='titleColumn').get_text(strip=True).split(')')\n",
    "    print(rank)\n",
    "    break"
   ]
  },
  {
   "cell_type": "code",
   "execution_count": 82,
   "id": "d54162ee",
   "metadata": {
    "collapsed": true
   },
   "outputs": [
    {
     "name": "stdout",
     "output_type": "stream",
     "text": [
      "1\n",
      "2\n",
      "3\n",
      "4\n",
      "5\n",
      "6\n",
      "7\n",
      "8\n",
      "9\n",
      "1\n",
      "1\n",
      "1\n",
      "1\n",
      "1\n",
      "1\n",
      "1\n",
      "1\n",
      "1\n",
      "1\n",
      "2\n",
      "2\n",
      "2\n",
      "2\n",
      "2\n",
      "2\n",
      "2\n",
      "2\n",
      "2\n",
      "2\n",
      "3\n",
      "3\n",
      "3\n",
      "3\n",
      "3\n",
      "3\n",
      "3\n",
      "3\n",
      "3\n",
      "3\n",
      "4\n",
      "4\n",
      "4\n",
      "4\n",
      "4\n",
      "4\n",
      "4\n",
      "4\n",
      "4\n",
      "4\n",
      "5\n",
      "5\n",
      "5\n",
      "5\n",
      "5\n",
      "5\n",
      "5\n",
      "5\n",
      "5\n",
      "5\n",
      "6\n",
      "6\n",
      "6\n",
      "6\n",
      "6\n",
      "6\n",
      "6\n",
      "6\n",
      "6\n",
      "6\n",
      "7\n",
      "7\n",
      "7\n",
      "7\n",
      "7\n",
      "7\n",
      "7\n",
      "7\n",
      "7\n",
      "7\n",
      "8\n",
      "8\n",
      "8\n",
      "8\n",
      "8\n",
      "8\n",
      "8\n",
      "8\n",
      "8\n",
      "8\n",
      "9\n",
      "9\n",
      "9\n",
      "9\n",
      "9\n",
      "9\n",
      "9\n",
      "9\n",
      "9\n",
      "9\n",
      "1\n"
     ]
    }
   ],
   "source": [
    "#We'll need to focus on the second item and the first number from it\n",
    "for i in show:\n",
    "    rank = i.find('td',class_='titleColumn').get_text(strip=True).split(')')[1][0]\n",
    "    print(rank)"
   ]
  },
  {
   "cell_type": "code",
   "execution_count": 83,
   "id": "01eedee5",
   "metadata": {},
   "outputs": [],
   "source": [
    "#However, after 9 the number are in double digits, and also 100 is of 3 digits\n",
    "#We'll need to use a count then"
   ]
  },
  {
   "cell_type": "markdown",
   "id": "e317b501",
   "metadata": {},
   "source": [
    " "
   ]
  },
  {
   "cell_type": "markdown",
   "id": "fdf1f6d8",
   "metadata": {},
   "source": [
    "FINAL loop"
   ]
  },
  {
   "cell_type": "code",
   "execution_count": 84,
   "id": "54abaede",
   "metadata": {
    "scrolled": true
   },
   "outputs": [
    {
     "name": "stdout",
     "output_type": "stream",
     "text": [
      "1 - Black Mirror -  2011  - 8.8\n",
      "2 - Secret Invasion -  2023  - 7.2\n",
      "3 - The Idol -  2023  - 5.6\n",
      "4 - Silo -  2023  - 8.1\n",
      "5 - The Bear -  2022  - 8.4\n",
      "6 - Succession -  2018  - 8.9\n",
      "7 - From -  2022  - 7.7\n",
      "8 - Star Trek: Strange New Worlds -  2022  - 8.2\n",
      "9 - Ted Lasso -  2020  - 8.8\n",
      "10 - One Piece -  2023  - NA\n",
      "11 - The Righteous Gemstones -  2019  - 8.1\n",
      "12 - The Walking Dead: Dead City -  2023  - 7.9\n",
      "13 - Suits -  2011  - 8.4\n",
      "14 - The Crowded Room -  2023  - 6.9\n",
      "15 - Never Have I Ever -  2020  - 7.9\n",
      "16 - Game of Thrones -  2011  - 9.2\n",
      "17 - Yellowstone -  2018  - 8.7\n",
      "18 - Outlander -  2014  - 8.4\n",
      "19 - FUBAR -  2023  - 6.5\n",
      "20 - The Walking Dead -  2010  - 8.1\n",
      "21 - Demon Slayer: Kimetsu no Yaiba -  2019  - 8.7\n",
      "22 - Manifest -  2018  - 7.1\n",
      "23 - It's Always Sunny in Philadelphia -  2005  - 8.8\n",
      "24 - Based on a True Story -  2023  - 7.3\n",
      "25 - Breaking Bad -  2008  - 9.5\n",
      "26 - Jury Duty -  2023  - 8.3\n",
      "27 - And Just Like That... -  2021  - 5.7\n",
      "28 - The Boys -  2019  - 8.7\n",
      "29 - 1883 -  2021  - 8.7\n",
      "30 - Stranger Things -  2016  - 8.7\n",
      "31 - Cruel Summer -  2021  - 7.5\n",
      "32 - The Flash -  2014  - 7.5\n",
      "33 - Grey's Anatomy -  2005  - 7.6\n",
      "34 - The Rookie -  2018  - 8.0\n",
      "35 - The Blacklist -  2013  - 8.0\n",
      "36 - Barry -  2018  - 8.4\n",
      "37 - The Sopranos -  1999  - 9.2\n",
      "38 - Better Call Saul -  2015  - 9.0\n",
      "39 - The Witcher -  2019  - 8.1\n",
      "40 - The Full Monty -  2023  - 7.0\n",
      "41 - Fear the Walking Dead -  2015  - 6.8\n",
      "42 - Yellowjackets -  2021  - 7.8\n",
      "43 - The Last of Us -  2023  - 8.8\n",
      "44 - The Office -  2005  - 9.0\n",
      "45 - Supernatural -  2005  - 8.4\n",
      "46 - Shameless -  2011  - 8.6\n",
      "47 - The Marvelous Mrs. Maisel -  2017  - 8.7\n",
      "48 - 3 Body Problem -  2024  - NA\n",
      "49 - Euphoria -  2019  - 8.3\n",
      "50 - Love & Death -  2023  - 7.5\n",
      "51 - Platonic -  2023  - 7.0\n",
      "52 - Law & Order: Special Victims Unit -  1999  - 8.1\n",
      "53 - Deadloch -  2023  - 6.4\n",
      "54 - NCIS -  2003  - 7.8\n",
      "55 - Young Sheldon -  2017  - 7.6\n",
      "56 - The White Lotus -  2021  - 7.9\n",
      "57 - One Piece -  1999  - 8.9\n",
      "58 - Friends -  1994  - 8.9\n",
      "59 - Jack Ryan -  2018  - 8.0\n",
      "60 - Criminal Minds -  2005  - 8.1\n",
      "61 - Joe Pickett -  2021  - 7.7\n",
      "62 - True Detective -  2014  - 8.9\n",
      "63 - Foundation -  2021  - 7.5\n",
      "64 - Vinland Saga -  2019  - 8.8\n",
      "65 - Peaky Blinders -  2013  - 8.8\n",
      "66 - Modern Family -  2009  - 8.5\n",
      "67 - The Big Bang Theory -  2007  - 8.2\n",
      "68 - Glamorous -  2023  - 5.5\n",
      "69 - The Diplomat -  2023  - 8.0\n",
      "70 - Avatar: The Last Airbender -  2024  - NA\n",
      "71 - The Night Agent -  2023  - 7.5\n",
      "72 - S.W.A.T. -  2017  - 7.2\n",
      "73 - The Mandalorian -  2019  - 8.7\n",
      "74 - 1923 -  2022  - 8.4\n",
      "75 - Severance -  2022  - 8.7\n",
      "76 - Attack on Titan -  2013  - 9.1\n",
      "77 - Endeavour -  2012  - 8.6\n",
      "78 - Bones -  2005  - 7.8\n",
      "79 - Wednesday -  2022  - 8.1\n",
      "80 - Doctor Who -  2005  - 8.6\n",
      "81 - House M.D. -  2004  - 8.7\n",
      "82 - Justified -  2010  - 8.6\n",
      "83 - Lost -  2004  - 8.3\n",
      "84 - Poker Face -  2023  - 7.9\n",
      "85 - The Wire -  2002  - 9.3\n",
      "86 - Shrinking -  2023  - 8.0\n",
      "87 - Bridgerton -  2020  - 7.4\n",
      "88 - Rick and Morty -  2013  - 9.1\n",
      "89 - The Good Doctor -  2017  - 8.0\n",
      "90 - Sex and the City -  1998  - 7.3\n",
      "91 - What We Do in the Shadows -  2019  - 8.6\n",
      "92 - Beef -  2023  - 8.1\n",
      "93 - The Great -  2020  - 8.2\n",
      "94 - Bloodhounds -  2023  - 8.1\n",
      "95 - Reacher -  2022  - 8.1\n",
      "96 - House of the Dragon -  2022  - 8.5\n",
      "97 - Superman & Lois -  2021  - 7.8\n",
      "98 - Vikings -  2013  - 8.5\n",
      "99 - Happy Valley -  2014  - 8.5\n",
      "100 - Midsomer Murders -  1997  - 7.9\n"
     ]
    }
   ],
   "source": [
    "count=0\n",
    "for i in show:\n",
    "\n",
    "    #We'll need to use a counter \n",
    "    count=count+1\n",
    "    \n",
    "    name = i.find('td',class_='titleColumn').a.text\n",
    "    year = i.find('td',class_='titleColumn').span.text.strip('()')\n",
    "       \n",
    "    #It was found One Piece had no rating, so we'll use exception\n",
    "    try:\n",
    "        rate = i.find('td',class_='imdbRating').strong.text\n",
    "    except:\n",
    "        rate ='NA'\n",
    "   \n",
    "    #In order to get the proper rank, we'll use the count variable \n",
    "    if count<=9:\n",
    "        rank = i.find('td',class_='titleColumn').get_text(strip=True).split(')')[1][0]\n",
    "    elif count<100:\n",
    "        rank = i.find('td',class_='titleColumn').get_text(strip=True).split(')')[1][0:2]\n",
    "    else:\n",
    "        rank = i.find('td',class_='titleColumn').get_text(strip=True).split(')')[1][0:3]\n",
    "        \n",
    "    print(rank, '-',name,'- ',year,' -',rate)"
   ]
  }
 ],
 "metadata": {
  "kernelspec": {
   "display_name": "Python 3 (ipykernel)",
   "language": "python",
   "name": "python3"
  },
  "language_info": {
   "codemirror_mode": {
    "name": "ipython",
    "version": 3
   },
   "file_extension": ".py",
   "mimetype": "text/x-python",
   "name": "python",
   "nbconvert_exporter": "python",
   "pygments_lexer": "ipython3",
   "version": "3.10.9"
  }
 },
 "nbformat": 4,
 "nbformat_minor": 5
}
