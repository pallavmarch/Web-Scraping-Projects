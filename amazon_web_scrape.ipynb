{
  "nbformat": 4,
  "nbformat_minor": 0,
  "metadata": {
    "colab": {
      "provenance": [],
      "gpuType": "V28"
    },
    "kernelspec": {
      "name": "python3",
      "display_name": "Python 3"
    },
    "language_info": {
      "name": "python"
    },
    "accelerator": "TPU"
  },
  "cells": [
    {
      "cell_type": "code",
      "execution_count": 86,
      "metadata": {
        "id": "rvGgSgeK2MiC"
      },
      "outputs": [],
      "source": [
        "from bs4 import BeautifulSoup\n",
        "import requests\n",
        "import pandas as pd\n",
        "from tabulate import tabulate\n",
        "from termcolor import colored"
      ]
    },
    {
      "cell_type": "code",
      "source": [
        "headers = {\"User-Agent\": \"Mozilla/5.0 (Windows NT 10.0; Win64; x64) AppleWebKit/537.36 (KHTML, like Gecko) Chrome/125.0.0.0 Safari/537.36 Edg/125.0.0.0\"}"
      ],
      "metadata": {
        "id": "hd8BvtOrSZna"
      },
      "execution_count": null,
      "outputs": []
    },
    {
      "cell_type": "markdown",
      "source": [
        "# Functions"
      ],
      "metadata": {
        "id": "XLF6WcjjNcI7"
      }
    },
    {
      "cell_type": "code",
      "source": [
        "def fetch_product_details(url, header):\n",
        "\n",
        "    webpage= requests.get(url,headers=header)\n",
        "    soup=BeautifulSoup(webpage.content,\"html.parser\")\n",
        "\n",
        "    product_title = soup.find(\"span\", attrs={\"id\": 'productTitle'}).text.strip()\n",
        "    product_price = soup.find(\"span\", attrs={\"class\": 'a-price a-text-price'}).find(\"span\", attrs={\"class\": 'a-offscreen'}).text.strip()\n",
        "    product_rating = soup.find(\"span\", attrs={\"class\": 'a-icon-alt'}).text.strip()\n",
        "\n",
        "    return {\n",
        "        \"Title\": product_title,\n",
        "        \"Price\": product_price,\n",
        "        \"Rating\": product_rating\n",
        "    }"
      ],
      "metadata": {
        "id": "Z44zLlXFBiGr"
      },
      "execution_count": null,
      "outputs": []
    },
    {
      "cell_type": "code",
      "source": [
        "def fetch_multiple_products_data(product_urls, headers):\n",
        "    products = []\n",
        "\n",
        "    for url in product_urls:\n",
        "        product_details = fetch_product_details(url, headers)\n",
        "        products.append(product_details)\n",
        "\n",
        "    return pd.DataFrame(products)"
      ],
      "metadata": {
        "id": "rGbMULxSCP47"
      },
      "execution_count": null,
      "outputs": []
    },
    {
      "cell_type": "markdown",
      "source": [
        "# The links"
      ],
      "metadata": {
        "id": "j1Ob2J9tXuYZ"
      }
    },
    {
      "cell_type": "code",
      "source": [
        "product_urls = [\n",
        "        \"https://www.amazon.in/Apple-iPhone-13-128GB-Starlight/dp/B09G9D8KRQ/ref=sr_1_4?crid=YZKHIYC8LR33&dib=eyJ2IjoiMSJ9.xL82DJGfaBhrnF7kGv8wP6gByKonBU8qXmfIm0i_BZwpTzwddd1UzpesJ4Mv-O8QghQPbLBLdTYm21H6IvZUfD6TeTxs0ChaW0WS9KRXCqY-xs6mKXEa44UrzsR4dkF62sSKXK9yvEoKGCNbzqZo7Oqu4t3zotUhaIaMq7DZ0LAcAwrE917l0yGUNCVZ2myRVgHGTvbOAK0UD7GsSrG_X8ns6w_dQuNyZBxbnSfD3o4.ZvPOojOYTuNIKA5tnijcjDlD-jaYSNFkpHD61EnwVtY&dib_tag=se&keywords=iphone&qid=1718207804&sprefix=iphone+%2Caps%2C329&sr=8-4\",\n",
        "        \"https://www.amazon.in/Apple-iPhone-14-128GB-Blue/dp/B0BDK62PDX/ref=sr_1_11?crid=YZKHIYC8LR33&dib=eyJ2IjoiMSJ9.xL82DJGfaBhrnF7kGv8wP6gByKonBU8qXmfIm0i_BZwpTzwddd1UzpesJ4Mv-O8QghQPbLBLdTYm21H6IvZUfD6TeTxs0ChaW0WS9KRXCqY-xs6mKXEa44UrzsR4dkF62sSKXK9yvEoKGCNbzqZo7Oqu4t3zotUhaIaMq7DZ0LAcAwrE917l0yGUNCVZ2myRVgHGTvbOAK0UD7GsSrG_X8ns6w_dQuNyZBxbnSfD3o4.ZvPOojOYTuNIKA5tnijcjDlD-jaYSNFkpHD61EnwVtY&dib_tag=se&keywords=iphone&qid=1718207804&sprefix=iphone+%2Caps%2C329&sr=8-11\",\n",
        "        \"https://www.amazon.in/Apple-iPhone-Pro-Max-256/dp/B0CHWWW471/ref=sr_1_3?crid=23C5IN50ANR0P&dib=eyJ2IjoiMSJ9.dVABcK2QHCS6eKC7OM7pMsxTu-6zOH7x_Gm6RV7UDtYyEobsazBeJAB0TQVYsJg978ZWVBGO34dZ6w8LeEA8PkKH7VCaE_yXXzwd-LHIp0nUb7Pq-9Q8DttVss9dxCS79OMwClktYZZL7E7oAA_tDvGFKIaGC125eSNYKqITATijbbJieNHM12pfF39LqDU4AaphscuvrtVmYKVqtXG2pvk6xCtrq-rx_DN0f-10UDU.Pc_uOH4YQlZL5kskU75FkStygxKvIZq6ed0F4PlPwtQ&dib_tag=se&keywords=iphone%2B15%2Bpro%2Bmax&qid=1718203429&sprefix=iphone%2Caps%2C264&sr=8-3&th=1\",\n",
        "        \"https://www.amazon.in/Samsung-Galaxy-Smartphone-Titanium-Storage/dp/B0CQYGF1QY/ref=sr_1_2?crid=17AJ4H88LWXB6&dib=eyJ2IjoiMSJ9.ayH29MDnPrCdz5dB7L_4w4cHL2OylC9ST2bihfV6YKIBNwwKkn6qJRaOTE8snuLmE7KngEhFIABGs06NDJ5gFF4xqb5-WeS0BBWmLmERpvLllMK8iPFEcBpOfdVD_guTh7qcETw3nZ4bFQxDs0XJ-TauCHPf6UAEf0PcXlNDkJty9Tv-RJgtrm2fceMm0Jiz-O_vyP4afSDbYcOgbSC0T43zi0HQ9t1P3vWM4k7JPD8.tX2J2wbvY6dK7aHpk4IyIqDGY06LCbN3-k3QdRtrNSY&dib_tag=se&keywords=samsung%2Bphones&qid=1718209890&refinements=p_36%3A4870000-&rnid=1318502031&sprefix=samsung%2Bphon%2Caps%2C302&sr=8-2&th=1\",\n",
        "        \"https://www.amazon.in/Samsung-Galaxy-Note10-Storage-Without/dp/B07PQ7DLVP/ref=sr_1_5?crid=17AJ4H88LWXB6&dib=eyJ2IjoiMSJ9.ayH29MDnPrCdz5dB7L_4w4cHL2OylC9ST2bihfV6YKIBNwwKkn6qJRaOTE8snuLmE7KngEhFIABGs06NDJ5gFF4xqb5-WeS0BBWmLmERpvLllMK8iPFEcBpOfdVD_guTh7qcETw3nZ4bFQxDs0XJ-TauCHPf6UAEf0PcXlNDkJty9Tv-RJgtrm2fceMm0Jiz-O_vyP4afSDbYcOgbSC0T43zi0HQ9t1P3vWM4k7JPD8.tX2J2wbvY6dK7aHpk4IyIqDGY06LCbN3-k3QdRtrNSY&dib_tag=se&keywords=samsung%2Bphones&qid=1718209890&refinements=p_36%3A4870000-&rnid=1318502031&sprefix=samsung%2Bphon%2Caps%2C302&sr=8-5&th=1\"\n",
        "        ]\n",
        "\n",
        "df = fetch_multiple_products_data(product_urls, headers)\n",
        "print(tabulate(df, headers='keys', tablefmt='pretty'))"
      ],
      "metadata": {
        "colab": {
          "base_uri": "https://localhost:8080/"
        },
        "id": "0z6eauKfKKyX",
        "outputId": "1c5a8a22-ded6-4a89-f513-6761477f78ec"
      },
      "execution_count": null,
      "outputs": [
        {
          "output_type": "stream",
          "name": "stdout",
          "text": [
            "+---+--------------------------------------------------------------------------------+-----------+--------------------+\n",
            "|   |                                     Title                                      |   Price   |       Rating       |\n",
            "+---+--------------------------------------------------------------------------------+-----------+--------------------+\n",
            "| 0 |                      Apple iPhone 13 (128GB) - Starlight                       |  ₹59,900  | 4.5 out of 5 stars |\n",
            "| 1 |                        Apple iPhone 14 (128 GB) - Blue                         |  ₹79,900  | 4.5 out of 5 stars |\n",
            "| 2 |               Apple iPhone 15 Pro Max (256 GB) - White Titanium                | ₹1,59,900 | 4.5 out of 5 stars |\n",
            "| 3 | Samsung Galaxy S24 Ultra 5G AI Smartphone (Titanium Gray, 12GB, 512GB Storage) | ₹1,44,999 | 4.4 out of 5 stars |\n",
            "| 4 |          Samsung Galaxy Note10+ (Aura Black, 12GB RAM, 256GB Storage)          |  ₹99,999  | 3.8 out of 5 stars |\n",
            "+---+--------------------------------------------------------------------------------+-----------+--------------------+\n"
          ]
        }
      ]
    }
  ]
}